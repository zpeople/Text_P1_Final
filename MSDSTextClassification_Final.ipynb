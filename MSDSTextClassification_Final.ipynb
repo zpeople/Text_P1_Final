{
  "cells": [
    {
      "cell_type": "markdown",
      "metadata": {
        "id": "vBVrSZE47UNQ"
      },
      "source": [
        "#  Building a model with K-Train\n",
        "\n",
        "Build a text classification model that distinguishes articles in the \"HEALTHY LIVING/WELLNESS\" category from other categories.I would simplify deep learning processes with pre-trained models (e.g. DistilBERT, FastText) for training and evaluation."
      ]
    },
    {
      "cell_type": "markdown",
      "metadata": {
        "id": "hGSUArJ_ZYN3"
      },
      "source": [
        "## Imports"
      ]
    },
    {
      "cell_type": "markdown",
      "metadata": {
        "id": "Y0MIZDrs0Ddx"
      },
      "source": [
        "We're using an API wrapper for Tensorflow called ktrain:\n",
        "\n",
        "https://github.com/amaiya/ktrain\n",
        "\n",
        "* python ==3.10\n",
        "* ktrain ==0.32\n",
        "* tensorflow ==2.12\n",
        "* nltk "
      ]
    },
    {
      "cell_type": "code",
      "execution_count": 14,
      "metadata": {
        "colab": {
          "base_uri": "https://localhost:8080/"
        },
        "id": "16hoKG5dbeWs",
        "outputId": "c89a1ccd-6944-4197-a9e5-2ad08bdc7e38"
      },
      "outputs": [],
      "source": [
        "# ! pip uninstall ktrain -y\n",
        "# ! pip install ktrain==0.32"
      ]
    },
    {
      "cell_type": "code",
      "execution_count": 15,
      "metadata": {
        "colab": {
          "base_uri": "https://localhost:8080/"
        },
        "id": "_7NVJSuXQLHC",
        "outputId": "4d62c37a-39f9-477d-a4bd-e0879120480e"
      },
      "outputs": [],
      "source": [
        "# ! pip uninstall tensorflow -y\n",
        "# ! pip install tensorflow==2.12\n",
        "# ! pip install Seaborn\n",
        "# ! pip install nltk"
      ]
    },
    {
      "cell_type": "code",
      "execution_count": 1,
      "metadata": {
        "id": "gIiuWnH7m0rQ"
      },
      "outputs": [],
      "source": [
        "import os\n",
        "import ktrain\n",
        "import pandas as pd\n",
        "import numpy as np\n",
        "\n",
        "import seaborn as sns\n",
        "import matplotlib.pyplot as plt\n",
        "\n",
        "BATCH_SIZE = 32 \n",
        "SAMPLE_COUNT = 5000\n",
        "\n",
        "MAXLEN = 512"
      ]
    },
    {
      "cell_type": "markdown",
      "metadata": {
        "id": "oaiVgZtNyRf2"
      },
      "source": [
        "## Mount Google Drive"
      ]
    },
    {
      "cell_type": "code",
      "execution_count": 17,
      "metadata": {
        "colab": {
          "base_uri": "https://localhost:8080/"
        },
        "id": "V_ewzr0kyTXo",
        "outputId": "6387b726-4093-4a22-d3dc-62b3429925cf"
      },
      "outputs": [],
      "source": [
        "# from google.colab import drive\n",
        "# drive.mount('/content/drive')"
      ]
    },
    {
      "cell_type": "markdown",
      "metadata": {
        "id": "E3XGSpfy0xPv"
      },
      "source": [
        "## Show  GPU information\n",
        "Ensure GPU availability"
      ]
    },
    {
      "cell_type": "code",
      "execution_count": 2,
      "metadata": {
        "colab": {
          "base_uri": "https://localhost:8080/"
        },
        "id": "I0GWta-7ELIN",
        "outputId": "792325fa-dd4d-4013-80b2-548d1c2f3d31"
      },
      "outputs": [
        {
          "name": "stdout",
          "output_type": "stream",
          "text": [
            "Thu Feb 20 09:23:16 2025       \n",
            "+-----------------------------------------------------------------------------------------+\n",
            "| NVIDIA-SMI 560.94                 Driver Version: 560.94         CUDA Version: 12.6     |\n",
            "|-----------------------------------------+------------------------+----------------------+\n",
            "| GPU  Name                  Driver-Model | Bus-Id          Disp.A | Volatile Uncorr. ECC |\n",
            "| Fan  Temp   Perf          Pwr:Usage/Cap |           Memory-Usage | GPU-Util  Compute M. |\n",
            "|                                         |                        |               MIG M. |\n",
            "|=========================================+========================+======================|\n",
            "|   0  NVIDIA GeForce GTX 960       WDDM  |   00000000:01:00.0  On |                  N/A |\n",
            "| 30%   23C    P8             17W /  180W |     834MiB /   4096MiB |      8%      Default |\n",
            "|                                         |                        |                  N/A |\n",
            "+-----------------------------------------+------------------------+----------------------+\n",
            "                                                                                         \n",
            "+-----------------------------------------------------------------------------------------+\n",
            "| Processes:                                                                              |\n",
            "|  GPU   GI   CI        PID   Type   Process name                              GPU Memory |\n",
            "|        ID   ID                                                               Usage      |\n",
            "|=========================================================================================|\n",
            "|    0   N/A  N/A      1796    C+G   ...siveControlPanel\\SystemSettings.exe      N/A      |\n",
            "|    0   N/A  N/A      5156    C+G   ...1\\extracted\\runtime\\WeChatAppEx.exe      N/A      |\n",
            "|    0   N/A  N/A      5620    C+G   ...5n1h2txyewy\\ShellExperienceHost.exe      N/A      |\n",
            "|    0   N/A  N/A      9552    C+G   C:\\Windows\\explorer.exe                     N/A      |\n",
            "|    0   N/A  N/A     11432    C+G   ...m Files\\TencentDocs\\TencentDocs.exe      N/A      |\n",
            "|    0   N/A  N/A     11520    C+G   ...al\\Discord\\app-1.0.9182\\Discord.exe      N/A      |\n",
            "|    0   N/A  N/A     11640    C+G   ...2txyewy\\StartMenuExperienceHost.exe      N/A      |\n",
            "|    0   N/A  N/A     11740    C+G   E:\\Microsoft VS Code\\Code.exe               N/A      |\n",
            "|    0   N/A  N/A     11924    C+G   ...64__8wekyb3d8bbwe\\CalculatorApp.exe      N/A      |\n",
            "|    0   N/A  N/A     12112    C+G   ...GeForce Experience\\NVIDIA Share.exe      N/A      |\n",
            "|    0   N/A  N/A     12172    C+G   ....Search_cw5n1h2txyewy\\SearchApp.exe      N/A      |\n",
            "|    0   N/A  N/A     12472    C+G   ...1.0_x64__w1wdnht996qgy\\LinkedIn.exe      N/A      |\n",
            "|    0   N/A  N/A     13140    C+G   ...GeForce Experience\\NVIDIA Share.exe      N/A      |\n",
            "|    0   N/A  N/A     13208    C+G   ...9770\\office6\\promecefpluginhost.exe      N/A      |\n",
            "|    0   N/A  N/A     13424    C+G   ...CBS_cw5n1h2txyewy\\TextInputHost.exe      N/A      |\n",
            "|    0   N/A  N/A     13956    C+G   ...t.LockApp_cw5n1h2txyewy\\LockApp.exe      N/A      |\n",
            "|    0   N/A  N/A     14996    C+G   ...ogram Files (x86)\\ToDesk\\ToDesk.exe      N/A      |\n",
            "|    0   N/A  N/A     16896    C+G   ...on\\133.0.3065.69\\msedgewebview2.exe      N/A      |\n",
            "+-----------------------------------------------------------------------------------------+\n"
          ]
        }
      ],
      "source": [
        "gpu_info = !nvidia-smi\n",
        "gpu_info = '\\n'.join(gpu_info)\n",
        "if gpu_info.find('failed') >= 0:\n",
        "  print('Not connected to a GPU')\n",
        "else:\n",
        "  print(gpu_info)"
      ]
    },
    {
      "cell_type": "markdown",
      "metadata": {
        "id": "oLd-Qkl7Djha"
      },
      "source": [
        "## Load the data"
      ]
    },
    {
      "cell_type": "markdown",
      "metadata": {
        "id": "idE4-ojt0-dH"
      },
      "source": [
        "The data file should be in your Google Drive."
      ]
    },
    {
      "cell_type": "code",
      "execution_count": 2,
      "metadata": {
        "id": "a7mhLblG6saq"
      },
      "outputs": [],
      "source": [
        "path = \"drive/MyDrive/Text_CUB/P1_Final/\"\n",
        "#for local run\n",
        "path = './'\n",
        "file = \"news_category_trainingdata.json\"\n",
        "news = pd.read_json(path + file)"
      ]
    },
    {
      "cell_type": "markdown",
      "metadata": {
        "id": "x-NXTV--Y3ue"
      },
      "source": [
        "## Inspect the data"
      ]
    },
    {
      "cell_type": "markdown",
      "metadata": {},
      "source": [
        "The dataset contains several fields such as category, headline, authors, link, short_description, and date."
      ]
    },
    {
      "cell_type": "code",
      "execution_count": 5,
      "metadata": {
        "colab": {
          "base_uri": "https://localhost:8080/",
          "height": 432
        },
        "id": "quwyVcHh6P1s",
        "outputId": "518fc4c0-bf2b-4609-ffa9-f2a26e12b28e"
      },
      "outputs": [
        {
          "data": {
            "text/html": [
              "<div>\n",
              "<style scoped>\n",
              "    .dataframe tbody tr th:only-of-type {\n",
              "        vertical-align: middle;\n",
              "    }\n",
              "\n",
              "    .dataframe tbody tr th {\n",
              "        vertical-align: top;\n",
              "    }\n",
              "\n",
              "    .dataframe thead th {\n",
              "        text-align: right;\n",
              "    }\n",
              "</style>\n",
              "<table border=\"1\" class=\"dataframe\">\n",
              "  <thead>\n",
              "    <tr style=\"text-align: right;\">\n",
              "      <th></th>\n",
              "      <th>category</th>\n",
              "      <th>headline</th>\n",
              "      <th>authors</th>\n",
              "      <th>link</th>\n",
              "      <th>short_description</th>\n",
              "      <th>date</th>\n",
              "    </tr>\n",
              "  </thead>\n",
              "  <tbody>\n",
              "    <tr>\n",
              "      <th>0</th>\n",
              "      <td>CRIME</td>\n",
              "      <td>There Were 2 Mass Shootings In Texas Last Week...</td>\n",
              "      <td>Melissa Jeltsen</td>\n",
              "      <td>https://www.huffingtonpost.com/entry/texas-ama...</td>\n",
              "      <td>She left her husband. He killed their children...</td>\n",
              "      <td>2018-05-26</td>\n",
              "    </tr>\n",
              "    <tr>\n",
              "      <th>1</th>\n",
              "      <td>ENTERTAINMENT</td>\n",
              "      <td>Will Smith Joins Diplo And Nicky Jam For The 2...</td>\n",
              "      <td>Andy McDonald</td>\n",
              "      <td>https://www.huffingtonpost.com/entry/will-smit...</td>\n",
              "      <td>Of course it has a song.</td>\n",
              "      <td>2018-05-26</td>\n",
              "    </tr>\n",
              "    <tr>\n",
              "      <th>2</th>\n",
              "      <td>ENTERTAINMENT</td>\n",
              "      <td>Hugh Grant Marries For The First Time At Age 57</td>\n",
              "      <td>Ron Dicker</td>\n",
              "      <td>https://www.huffingtonpost.com/entry/hugh-gran...</td>\n",
              "      <td>The actor and his longtime girlfriend Anna Ebe...</td>\n",
              "      <td>2018-05-26</td>\n",
              "    </tr>\n",
              "    <tr>\n",
              "      <th>3</th>\n",
              "      <td>ENTERTAINMENT</td>\n",
              "      <td>Jim Carrey Blasts 'Castrato' Adam Schiff And D...</td>\n",
              "      <td>Ron Dicker</td>\n",
              "      <td>https://www.huffingtonpost.com/entry/jim-carre...</td>\n",
              "      <td>The actor gives Dems an ass-kicking for not fi...</td>\n",
              "      <td>2018-05-26</td>\n",
              "    </tr>\n",
              "    <tr>\n",
              "      <th>4</th>\n",
              "      <td>ENTERTAINMENT</td>\n",
              "      <td>Julianna Margulies Uses Donald Trump Poop Bags...</td>\n",
              "      <td>Ron Dicker</td>\n",
              "      <td>https://www.huffingtonpost.com/entry/julianna-...</td>\n",
              "      <td>The \"Dietland\" actress said using the bags is ...</td>\n",
              "      <td>2018-05-26</td>\n",
              "    </tr>\n",
              "  </tbody>\n",
              "</table>\n",
              "</div>"
            ],
            "text/plain": [
              "        category                                           headline  \\\n",
              "0          CRIME  There Were 2 Mass Shootings In Texas Last Week...   \n",
              "1  ENTERTAINMENT  Will Smith Joins Diplo And Nicky Jam For The 2...   \n",
              "2  ENTERTAINMENT    Hugh Grant Marries For The First Time At Age 57   \n",
              "3  ENTERTAINMENT  Jim Carrey Blasts 'Castrato' Adam Schiff And D...   \n",
              "4  ENTERTAINMENT  Julianna Margulies Uses Donald Trump Poop Bags...   \n",
              "\n",
              "           authors                                               link  \\\n",
              "0  Melissa Jeltsen  https://www.huffingtonpost.com/entry/texas-ama...   \n",
              "1    Andy McDonald  https://www.huffingtonpost.com/entry/will-smit...   \n",
              "2       Ron Dicker  https://www.huffingtonpost.com/entry/hugh-gran...   \n",
              "3       Ron Dicker  https://www.huffingtonpost.com/entry/jim-carre...   \n",
              "4       Ron Dicker  https://www.huffingtonpost.com/entry/julianna-...   \n",
              "\n",
              "                                   short_description       date  \n",
              "0  She left her husband. He killed their children... 2018-05-26  \n",
              "1                           Of course it has a song. 2018-05-26  \n",
              "2  The actor and his longtime girlfriend Anna Ebe... 2018-05-26  \n",
              "3  The actor gives Dems an ass-kicking for not fi... 2018-05-26  \n",
              "4  The \"Dietland\" actress said using the bags is ... 2018-05-26  "
            ]
          },
          "execution_count": 5,
          "metadata": {},
          "output_type": "execute_result"
        }
      ],
      "source": [
        "news.head()"
      ]
    },
    {
      "cell_type": "markdown",
      "metadata": {},
      "source": [
        "Check the data for missing empty data"
      ]
    },
    {
      "cell_type": "code",
      "execution_count": 6,
      "metadata": {},
      "outputs": [
        {
          "name": "stdout",
          "output_type": "stream",
          "text": [
            "<class 'pandas.core.frame.DataFrame'>\n",
            "Int64Index: 200853 entries, 0 to 200852\n",
            "Data columns (total 6 columns):\n",
            " #   Column             Non-Null Count   Dtype         \n",
            "---  ------             --------------   -----         \n",
            " 0   category           200853 non-null  object        \n",
            " 1   headline           200853 non-null  object        \n",
            " 2   authors            200853 non-null  object        \n",
            " 3   link               200853 non-null  object        \n",
            " 4   short_description  200853 non-null  object        \n",
            " 5   date               200853 non-null  datetime64[ns]\n",
            "dtypes: datetime64[ns](1), object(5)\n",
            "memory usage: 10.7+ MB\n"
          ]
        },
        {
          "data": {
            "text/plain": [
              "category             0\n",
              "headline             0\n",
              "authors              0\n",
              "link                 0\n",
              "short_description    0\n",
              "date                 0\n",
              "dtype: int64"
            ]
          },
          "execution_count": 6,
          "metadata": {},
          "output_type": "execute_result"
        }
      ],
      "source": [
        "news.info()\n",
        "\n",
        "news.isnull().sum()"
      ]
    },
    {
      "cell_type": "markdown",
      "metadata": {},
      "source": [
        "To view which categories of data are ranked"
      ]
    },
    {
      "cell_type": "code",
      "execution_count": 7,
      "metadata": {},
      "outputs": [
        {
          "data": {
            "image/png": "[encoded data removed]",
            "text/plain": [
              "<Figure size 600x400 with 1 Axes>"
            ]
          },
          "metadata": {},
          "output_type": "display_data"
        }
      ],
      "source": [
        "news_cat_count =news[\"category\"].value_counts().head(20)\n",
        "\n",
        "type(news_cat_count)\n",
        "\n",
        "f = plt.figure(figsize=(6,4))\n",
        "sns.barplot(x = 'count',\n",
        "            y = 'category',\n",
        "            data =news_cat_count.reset_index().rename(columns = {'index':'category','category':'count'})\n",
        "            ).set(title='Top 20 Categories')\n",
        "plt.show()"
      ]
    },
    {
      "cell_type": "markdown",
      "metadata": {
        "id": "HbCERZaXG0p-"
      },
      "source": [
        "## Prepare the data"
      ]
    },
    {
      "cell_type": "markdown",
      "metadata": {
        "id": "fZ7xO9Aa6iyU"
      },
      "source": [
        "Most machine learning tools in Python accept one field/column/string. So we have to merge our two text column. Let's separate it with a space."
      ]
    },
    {
      "cell_type": "code",
      "execution_count": 3,
      "metadata": {
        "id": "F6VLEzaSuDyx"
      },
      "outputs": [],
      "source": [
        "news['combined_text'] = news['headline'] + ' ' + news['short_description']"
      ]
    },
    {
      "cell_type": "markdown",
      "metadata": {
        "id": "YKvESWUF5f4Y"
      },
      "source": [
        "The first thing we need to do is prepare the data. Specifically, we have a categorical column that we want to turn into a 'is this article about Health & Wellness?' column. That is, when an article belongs to the 'HEALTHY LIVING' or 'WELLNESS' categories, it should be marked with a 1; for any other category, it should be marked with a 0."
      ]
    },
    {
      "cell_type": "code",
      "execution_count": 4,
      "metadata": {
        "colab": {
          "base_uri": "https://localhost:8080/",
          "height": 1000
        },
        "id": "Bz1PoZOPriCk",
        "outputId": "1427f8af-8122-484b-f31d-6dbaffd0dcdb"
      },
      "outputs": [
        {
          "data": {
            "text/html": [
              "<div>\n",
              "<style scoped>\n",
              "    .dataframe tbody tr th:only-of-type {\n",
              "        vertical-align: middle;\n",
              "    }\n",
              "\n",
              "    .dataframe tbody tr th {\n",
              "        vertical-align: top;\n",
              "    }\n",
              "\n",
              "    .dataframe thead th {\n",
              "        text-align: right;\n",
              "    }\n",
              "</style>\n",
              "<table border=\"1\" class=\"dataframe\">\n",
              "  <thead>\n",
              "    <tr style=\"text-align: right;\">\n",
              "      <th></th>\n",
              "      <th>category</th>\n",
              "      <th>headline</th>\n",
              "      <th>authors</th>\n",
              "      <th>link</th>\n",
              "      <th>short_description</th>\n",
              "      <th>date</th>\n",
              "      <th>combined_text</th>\n",
              "      <th>H&amp;W</th>\n",
              "    </tr>\n",
              "  </thead>\n",
              "  <tbody>\n",
              "    <tr>\n",
              "      <th>0</th>\n",
              "      <td>CRIME</td>\n",
              "      <td>There Were 2 Mass Shootings In Texas Last Week...</td>\n",
              "      <td>Melissa Jeltsen</td>\n",
              "      <td>https://www.huffingtonpost.com/entry/texas-ama...</td>\n",
              "      <td>She left her husband. He killed their children...</td>\n",
              "      <td>2018-05-26</td>\n",
              "      <td>There Were 2 Mass Shootings In Texas Last Week...</td>\n",
              "      <td>0</td>\n",
              "    </tr>\n",
              "    <tr>\n",
              "      <th>1</th>\n",
              "      <td>ENTERTAINMENT</td>\n",
              "      <td>Will Smith Joins Diplo And Nicky Jam For The 2...</td>\n",
              "      <td>Andy McDonald</td>\n",
              "      <td>https://www.huffingtonpost.com/entry/will-smit...</td>\n",
              "      <td>Of course it has a song.</td>\n",
              "      <td>2018-05-26</td>\n",
              "      <td>Will Smith Joins Diplo And Nicky Jam For The 2...</td>\n",
              "      <td>0</td>\n",
              "    </tr>\n",
              "    <tr>\n",
              "      <th>2</th>\n",
              "      <td>ENTERTAINMENT</td>\n",
              "      <td>Hugh Grant Marries For The First Time At Age 57</td>\n",
              "      <td>Ron Dicker</td>\n",
              "      <td>https://www.huffingtonpost.com/entry/hugh-gran...</td>\n",
              "      <td>The actor and his longtime girlfriend Anna Ebe...</td>\n",
              "      <td>2018-05-26</td>\n",
              "      <td>Hugh Grant Marries For The First Time At Age 5...</td>\n",
              "      <td>0</td>\n",
              "    </tr>\n",
              "    <tr>\n",
              "      <th>3</th>\n",
              "      <td>ENTERTAINMENT</td>\n",
              "      <td>Jim Carrey Blasts 'Castrato' Adam Schiff And D...</td>\n",
              "      <td>Ron Dicker</td>\n",
              "      <td>https://www.huffingtonpost.com/entry/jim-carre...</td>\n",
              "      <td>The actor gives Dems an ass-kicking for not fi...</td>\n",
              "      <td>2018-05-26</td>\n",
              "      <td>Jim Carrey Blasts 'Castrato' Adam Schiff And D...</td>\n",
              "      <td>0</td>\n",
              "    </tr>\n",
              "    <tr>\n",
              "      <th>4</th>\n",
              "      <td>ENTERTAINMENT</td>\n",
              "      <td>Julianna Margulies Uses Donald Trump Poop Bags...</td>\n",
              "      <td>Ron Dicker</td>\n",
              "      <td>https://www.huffingtonpost.com/entry/julianna-...</td>\n",
              "      <td>The \"Dietland\" actress said using the bags is ...</td>\n",
              "      <td>2018-05-26</td>\n",
              "      <td>Julianna Margulies Uses Donald Trump Poop Bags...</td>\n",
              "      <td>0</td>\n",
              "    </tr>\n",
              "  </tbody>\n",
              "</table>\n",
              "</div>"
            ],
            "text/plain": [
              "        category                                           headline  \\\n",
              "0          CRIME  There Were 2 Mass Shootings In Texas Last Week...   \n",
              "1  ENTERTAINMENT  Will Smith Joins Diplo And Nicky Jam For The 2...   \n",
              "2  ENTERTAINMENT    Hugh Grant Marries For The First Time At Age 57   \n",
              "3  ENTERTAINMENT  Jim Carrey Blasts 'Castrato' Adam Schiff And D...   \n",
              "4  ENTERTAINMENT  Julianna Margulies Uses Donald Trump Poop Bags...   \n",
              "\n",
              "           authors                                               link  \\\n",
              "0  Melissa Jeltsen  https://www.huffingtonpost.com/entry/texas-ama...   \n",
              "1    Andy McDonald  https://www.huffingtonpost.com/entry/will-smit...   \n",
              "2       Ron Dicker  https://www.huffingtonpost.com/entry/hugh-gran...   \n",
              "3       Ron Dicker  https://www.huffingtonpost.com/entry/jim-carre...   \n",
              "4       Ron Dicker  https://www.huffingtonpost.com/entry/julianna-...   \n",
              "\n",
              "                                   short_description       date  \\\n",
              "0  She left her husband. He killed their children... 2018-05-26   \n",
              "1                           Of course it has a song. 2018-05-26   \n",
              "2  The actor and his longtime girlfriend Anna Ebe... 2018-05-26   \n",
              "3  The actor gives Dems an ass-kicking for not fi... 2018-05-26   \n",
              "4  The \"Dietland\" actress said using the bags is ... 2018-05-26   \n",
              "\n",
              "                                       combined_text  H&W  \n",
              "0  There Were 2 Mass Shootings In Texas Last Week...    0  \n",
              "1  Will Smith Joins Diplo And Nicky Jam For The 2...    0  \n",
              "2  Hugh Grant Marries For The First Time At Age 5...    0  \n",
              "3  Jim Carrey Blasts 'Castrato' Adam Schiff And D...    0  \n",
              "4  Julianna Margulies Uses Donald Trump Poop Bags...    0  "
            ]
          },
          "execution_count": 4,
          "metadata": {},
          "output_type": "execute_result"
        }
      ],
      "source": [
        "well_cat = ['HEALTHY LIVING', 'WELLNESS']\n",
        "news['H&W'] = np.where((news['category'].isin(well_cat)), 1, 0)\n",
        "news.head()\n"
      ]
    },
    {
      "cell_type": "code",
      "execution_count": 10,
      "metadata": {
        "colab": {
          "base_uri": "https://localhost:8080/",
          "height": 335
        },
        "id": "aexMvzhKtyDN",
        "outputId": "3574c8f0-731e-4655-c235-81cf10813282"
      },
      "outputs": [
        {
          "data": {
            "text/plain": [
              "count    200853.000000\n",
              "mean          0.122084\n",
              "std           0.327384\n",
              "min           0.000000\n",
              "25%           0.000000\n",
              "50%           0.000000\n",
              "75%           0.000000\n",
              "max           1.000000\n",
              "Name: H&W, dtype: float64"
            ]
          },
          "execution_count": 10,
          "metadata": {},
          "output_type": "execute_result"
        }
      ],
      "source": [
        "news['H&W'].describe()"
      ]
    },
    {
      "cell_type": "markdown",
      "metadata": {},
      "source": [
        "The data appears to be imbalanced based on the counts provided for the H&W column. Here is a breakdown of the imbalance:\n",
        "\n",
        "* The count for 0 (articles not about Health & Wellness) is 176,332.\n",
        "* The count for 1 (articles about Health & Wellness) is 24,521.\n",
        "\n",
        "Potential Impact:\n",
        "* Model Bias: An imbalanced dataset can lead to a model that is biased towards predicting the majority class (in this case, 0).\n",
        "* Performance Metrics: Standard metrics like accuracy might not be reliable. Precision, recall, and F1-score should be considered instead.\n",
        "* Training Efficiency: The model might learn more from the majority class, potentially overlooking patterns in the minority class."
      ]
    },
    {
      "cell_type": "code",
      "execution_count": 11,
      "metadata": {},
      "outputs": [
        {
          "data": {
            "text/plain": [
              "0    176332\n",
              "1     24521\n",
              "Name: H&W, dtype: int64"
            ]
          },
          "execution_count": 11,
          "metadata": {},
          "output_type": "execute_result"
        }
      ],
      "source": [
        "news['H&W'].value_counts()"
      ]
    },
    {
      "cell_type": "markdown",
      "metadata": {
        "id": "S766s41yJVdf"
      },
      "source": [
        "## Balance the data"
      ]
    },
    {
      "cell_type": "markdown",
      "metadata": {
        "id": "-4sGp-UdeBMh"
      },
      "source": [
        "\n",
        "\n",
        "In order to ensure the effectiveness of model training, it is necessary to balance the ratio of positive and negative samples in the data set. Although a full balanced data set is recommended for practical applications, a smaller subset of the data is used for experimental efficiency.\n",
        "\n",
        "To create a balanced data set that includes all of the health living articles, set sample_amount to the total number of those articles."
      ]
    },
    {
      "cell_type": "code",
      "execution_count": 5,
      "metadata": {
        "id": "xfLYND3fam_x"
      },
      "outputs": [],
      "source": [
        "wellness = news[news['H&W'] == 1].sample(n=SAMPLE_COUNT)\n",
        "not_wellness = news[news['H&W'] == 0].sample(n=SAMPLE_COUNT)"
      ]
    },
    {
      "cell_type": "markdown",
      "metadata": {},
      "source": [
        "Merge the datasets of wellness and non-wellness news articles into a single DataFrame"
      ]
    },
    {
      "cell_type": "code",
      "execution_count": 6,
      "metadata": {
        "id": "B48IOQpGdsp1"
      },
      "outputs": [],
      "source": [
        "news_sample = pd.concat([wellness,not_wellness])"
      ]
    },
    {
      "cell_type": "code",
      "execution_count": 7,
      "metadata": {
        "colab": {
          "base_uri": "https://localhost:8080/",
          "height": 300
        },
        "id": "CHr4h7FYed_Z",
        "outputId": "a2ebd361-4c98-4af4-e884-3768befad7cc"
      },
      "outputs": [
        {
          "data": {
            "text/html": [
              "<div>\n",
              "<style scoped>\n",
              "    .dataframe tbody tr th:only-of-type {\n",
              "        vertical-align: middle;\n",
              "    }\n",
              "\n",
              "    .dataframe tbody tr th {\n",
              "        vertical-align: top;\n",
              "    }\n",
              "\n",
              "    .dataframe thead th {\n",
              "        text-align: right;\n",
              "    }\n",
              "</style>\n",
              "<table border=\"1\" class=\"dataframe\">\n",
              "  <thead>\n",
              "    <tr style=\"text-align: right;\">\n",
              "      <th></th>\n",
              "      <th>H&amp;W</th>\n",
              "    </tr>\n",
              "  </thead>\n",
              "  <tbody>\n",
              "    <tr>\n",
              "      <th>count</th>\n",
              "      <td>10000.000000</td>\n",
              "    </tr>\n",
              "    <tr>\n",
              "      <th>mean</th>\n",
              "      <td>0.500000</td>\n",
              "    </tr>\n",
              "    <tr>\n",
              "      <th>std</th>\n",
              "      <td>0.500025</td>\n",
              "    </tr>\n",
              "    <tr>\n",
              "      <th>min</th>\n",
              "      <td>0.000000</td>\n",
              "    </tr>\n",
              "    <tr>\n",
              "      <th>25%</th>\n",
              "      <td>0.000000</td>\n",
              "    </tr>\n",
              "    <tr>\n",
              "      <th>50%</th>\n",
              "      <td>0.500000</td>\n",
              "    </tr>\n",
              "    <tr>\n",
              "      <th>75%</th>\n",
              "      <td>1.000000</td>\n",
              "    </tr>\n",
              "    <tr>\n",
              "      <th>max</th>\n",
              "      <td>1.000000</td>\n",
              "    </tr>\n",
              "  </tbody>\n",
              "</table>\n",
              "</div>"
            ],
            "text/plain": [
              "                H&W\n",
              "count  10000.000000\n",
              "mean       0.500000\n",
              "std        0.500025\n",
              "min        0.000000\n",
              "25%        0.000000\n",
              "50%        0.500000\n",
              "75%        1.000000\n",
              "max        1.000000"
            ]
          },
          "execution_count": 7,
          "metadata": {},
          "output_type": "execute_result"
        }
      ],
      "source": [
        "news_sample.describe()"
      ]
    },
    {
      "cell_type": "markdown",
      "metadata": {},
      "source": [
        "Remove the specified columns from the DataFrame"
      ]
    },
    {
      "cell_type": "code",
      "execution_count": 8,
      "metadata": {},
      "outputs": [],
      "source": [
        "news_sample.drop(['category', 'headline', 'authors', 'link', 'short_description', 'date'], axis=1, inplace=True)\n"
      ]
    },
    {
      "cell_type": "markdown",
      "metadata": {},
      "source": [
        "## Clean the data"
      ]
    },
    {
      "cell_type": "markdown",
      "metadata": {},
      "source": [
        "We preprocessing is done to standardize and clean the textual data by removing irrelevant information such as URLs, HTML tags, punctuation, and stop words, ensuring that the remaining content is uniform and focused on meaningful words for analysis. Additionally, it helps in reducing the complexity of the text data by converting all text to lowercase, lemmatizing words to their base forms, and eliminating short words, which improves the performance and accuracy of subsequent text analysis or machine learning models."
      ]
    },
    {
      "cell_type": "code",
      "execution_count": 9,
      "metadata": {},
      "outputs": [
        {
          "data": {
            "text/html": [
              "<div>\n",
              "<style scoped>\n",
              "    .dataframe tbody tr th:only-of-type {\n",
              "        vertical-align: middle;\n",
              "    }\n",
              "\n",
              "    .dataframe tbody tr th {\n",
              "        vertical-align: top;\n",
              "    }\n",
              "\n",
              "    .dataframe thead th {\n",
              "        text-align: right;\n",
              "    }\n",
              "</style>\n",
              "<table border=\"1\" class=\"dataframe\">\n",
              "  <thead>\n",
              "    <tr style=\"text-align: right;\">\n",
              "      <th></th>\n",
              "      <th>combined_text</th>\n",
              "      <th>H&amp;W</th>\n",
              "    </tr>\n",
              "  </thead>\n",
              "  <tbody>\n",
              "    <tr>\n",
              "      <th>103813</th>\n",
              "      <td>6 Diets With Serious Flaws</td>\n",
              "      <td>1</td>\n",
              "    </tr>\n",
              "    <tr>\n",
              "      <th>173608</th>\n",
              "      <td>I Lost Weight: After Being Diagnosed With Type...</td>\n",
              "      <td>1</td>\n",
              "    </tr>\n",
              "    <tr>\n",
              "      <th>89316</th>\n",
              "      <td>My Choice To Live: Part II</td>\n",
              "      <td>1</td>\n",
              "    </tr>\n",
              "    <tr>\n",
              "      <th>138859</th>\n",
              "      <td>Kids Know Better Here's why small children don...</td>\n",
              "      <td>1</td>\n",
              "    </tr>\n",
              "    <tr>\n",
              "      <th>166157</th>\n",
              "      <td>Reflections on the Culture of Appearance At th...</td>\n",
              "      <td>1</td>\n",
              "    </tr>\n",
              "  </tbody>\n",
              "</table>\n",
              "</div>"
            ],
            "text/plain": [
              "                                            combined_text  H&W\n",
              "103813                        6 Diets With Serious Flaws     1\n",
              "173608  I Lost Weight: After Being Diagnosed With Type...    1\n",
              "89316                         My Choice To Live: Part II     1\n",
              "138859  Kids Know Better Here's why small children don...    1\n",
              "166157  Reflections on the Culture of Appearance At th...    1"
            ]
          },
          "execution_count": 9,
          "metadata": {},
          "output_type": "execute_result"
        }
      ],
      "source": [
        "news_sample.head()"
      ]
    },
    {
      "cell_type": "code",
      "execution_count": 10,
      "metadata": {},
      "outputs": [
        {
          "ename": "",
          "evalue": "",
          "output_type": "error",
          "traceback": [
            "\u001b[1;31mCannot execute code, session has been disposed. Please try restarting the Kernel."
          ]
        },
        {
          "ename": "",
          "evalue": "",
          "output_type": "error",
          "traceback": [
            "\u001b[1;31mCannot execute code, session has been disposed. Please try restarting the Kernel. \n",
            "\u001b[1;31mView Jupyter <a href='command:jupyter.viewOutput'>log</a> for further details."
          ]
        }
      ],
      "source": [
        "import re\n",
        "import string\n",
        "import nltk\n",
        "import pandas as pd\n",
        "nltk.download('stopwords')\n",
        "nltk.download('punkt')\n",
        "nltk.download('punkt_tab')\n",
        "nltk.download('wordnet')\n",
        "from nltk.stem import WordNetLemmatizer\n",
        "from nltk.corpus import stopwords\n",
        "from nltk.tokenize import word_tokenize\n",
        "# retrieve english stop words\n",
        "stop_words = set(stopwords.words('english'))\n",
        "\n",
        "# Converts text to lower case\n",
        "def convert_to_lowercase(text):\n",
        "    if pd.isna(text):\n",
        "        return text\n",
        "    if isinstance(text, str):\n",
        "        return text.lower()\n",
        "    return text\n",
        "\n",
        "# Remove all punctuation from the text\n",
        "def remove_punctuation(text):\n",
        "    if pd.isna(text):\n",
        "        return text\n",
        "    text = re.sub(f'[{string.punctuation}]', '', text)\n",
        "    return text\n",
        "\n",
        "# Removes all numbers from the text\n",
        "def remove_numbers(text):\n",
        "    if pd.isna(text):\n",
        "        return text\n",
        "    text = re.sub(r'\\d+', '', text)\n",
        "    return text\n",
        "\n",
        "# Text segmentation, then remove the length of 2 or less and the single word and stop word\n",
        "def remove_short_words_and_stop_words(text):\n",
        "    if pd.isna(text):\n",
        "        return text\n",
        "    words = word_tokenize(text)\n",
        "    words = [word for word in words if len(word) > 2 and word not in stop_words]\n",
        "    cleaned_text = ' '.join(words)\n",
        "    return cleaned_text\n",
        "\n",
        "# Replace two or more consecutive Spaces with a single space\n",
        "def remove_multiple_spaces(text):\n",
        "    if pd.isna(text):\n",
        "        return text\n",
        "    cleaned_text = re.sub(r' {2,}', ' ', text)\n",
        "    return cleaned_text\n",
        "\n",
        "# Remove urls\n",
        "def remove_urls(text):\n",
        "    if pd.isna(text):\n",
        "        return text\n",
        "    url_pattern = r'(www.|http[s]?://)(?:[a-zA-Z]|[0-9]|[$-_@.&+]|[!*\\(\\),]|(?:%[0-9a-fA-F][0-9a-fA-F]))+'\n",
        "    return re.sub(url_pattern, '', text)\n",
        "\n",
        "# Remove htmls\n",
        "def remove_html(text):\n",
        "    if pd.isna(text):\n",
        "        return text\n",
        "    html_entities = r'<.*?>|&([a-z0-9]+|#[0-9]{1,6}|#x[0-9a-f]{1,6});'\n",
        "    return re.sub(html_entities, '', text)\n",
        "\n",
        "# Remove @ and #\n",
        "def remove_tags(text):\n",
        "    if pd.isna(text):\n",
        "        return text\n",
        "    tag_pattern = r'@([a-z0-9]+)|#'\n",
        "    return re.sub(tag_pattern, '', text)\n",
        "\n",
        "\n",
        "def preprocess_text(text):\n",
        "    if pd.isna(text):\n",
        "        return text\n",
        "    cleaned_text = re.sub(r'[^a-zA-Z\\d\\s]+', '',text)\n",
        "    word_list = []\n",
        "    for each_word in cleaned_text.split(' '):\n",
        "        word_list.append((each_word).lower())\n",
        "    word_list = [\n",
        "        WordNetLemmatizer().lemmatize(each_word.strip()) for each_word in word_list\n",
        "        if each_word not in stop_words and each_word.strip() != ''\n",
        "    ]\n",
        "    return \" \".join(word_list)\n",
        "\n",
        "\n",
        "\n",
        "def clean_text(df, col):\n",
        "    df[col] = df[col].apply(convert_to_lowercase)\n",
        "    df[col] = df[col].apply(remove_urls)\n",
        "    df[col] = df[col].apply(remove_html)\n",
        "    df[col] = df[col].apply(remove_tags)\n",
        "    df[col] = df[col].apply(remove_numbers)\n",
        "    df[col] = df[col].apply(remove_short_words_and_stop_words)\n",
        "    df[col] = df[col].apply(remove_multiple_spaces) \n",
        "    df[col] = df[col].apply(preprocess_text)\n",
        "    return df"
      ]
    },
    {
      "cell_type": "code",
      "execution_count": null,
      "metadata": {},
      "outputs": [],
      "source": [
        "news_sample = clean_text(news_sample, 'combined_text')"
      ]
    },
    {
      "cell_type": "code",
      "execution_count": null,
      "metadata": {},
      "outputs": [
        {
          "data": {
            "text/html": [
              "<div>\n",
              "<style scoped>\n",
              "    .dataframe tbody tr th:only-of-type {\n",
              "        vertical-align: middle;\n",
              "    }\n",
              "\n",
              "    .dataframe tbody tr th {\n",
              "        vertical-align: top;\n",
              "    }\n",
              "\n",
              "    .dataframe thead th {\n",
              "        text-align: right;\n",
              "    }\n",
              "</style>\n",
              "<table border=\"1\" class=\"dataframe\">\n",
              "  <thead>\n",
              "    <tr style=\"text-align: right;\">\n",
              "      <th></th>\n",
              "      <th>combined_text</th>\n",
              "      <th>H&amp;W</th>\n",
              "    </tr>\n",
              "  </thead>\n",
              "  <tbody>\n",
              "    <tr>\n",
              "      <th>181594</th>\n",
              "      <td>driving life ego self crucial part learn help ...</td>\n",
              "      <td>1</td>\n",
              "    </tr>\n",
              "    <tr>\n",
              "      <th>140423</th>\n",
              "      <td>baking cooking blueberry affect polyphenol lev...</td>\n",
              "      <td>1</td>\n",
              "    </tr>\n",
              "    <tr>\n",
              "      <th>133372</th>\n",
              "      <td>cancer daily grind want live annoyed setback f...</td>\n",
              "      <td>1</td>\n",
              "    </tr>\n",
              "    <tr>\n",
              "      <th>183666</th>\n",
              "      <td>staying active work improve health video many ...</td>\n",
              "      <td>1</td>\n",
              "    </tr>\n",
              "    <tr>\n",
              "      <th>102708</th>\n",
              "      <td>slow medicine see body plant machine</td>\n",
              "      <td>1</td>\n",
              "    </tr>\n",
              "  </tbody>\n",
              "</table>\n",
              "</div>"
            ],
            "text/plain": [
              "                                            combined_text  H&W\n",
              "181594  driving life ego self crucial part learn help ...    1\n",
              "140423  baking cooking blueberry affect polyphenol lev...    1\n",
              "133372  cancer daily grind want live annoyed setback f...    1\n",
              "183666  staying active work improve health video many ...    1\n",
              "102708               slow medicine see body plant machine    1"
            ]
          },
          "execution_count": 19,
          "metadata": {},
          "output_type": "execute_result"
        }
      ],
      "source": [
        "news_sample.head()"
      ]
    },
    {
      "cell_type": "markdown",
      "metadata": {},
      "source": [
        "We count the number of cleaned words in order to set the appropriate MAXLEN"
      ]
    },
    {
      "cell_type": "code",
      "execution_count": 20,
      "metadata": {},
      "outputs": [
        {
          "data": {
            "image/png": "[encoded data removed]",
            "text/plain": [
              "<Figure size 2000x600 with 1 Axes>"
            ]
          },
          "metadata": {},
          "output_type": "display_data"
        }
      ],
      "source": [
        "\n",
        "def count_words(text):\n",
        "    return len(text.split())\n",
        "\n",
        "news_sample['word_count'] = news_sample['combined_text'].apply(count_words)\n",
        "\n",
        "word_count_stats = news_sample['word_count'].value_counts().reset_index()\n",
        "word_count_stats.columns = ['word_count', 'frequency']\n",
        "\n",
        "plt.figure(figsize=(20, 6))\n",
        "sns.barplot(x='word_count', y='frequency', data=word_count_stats)\n",
        "plt.title('Distribution of Word Counts in combined_text')\n",
        "plt.xlabel('Word Count')\n",
        "plt.xticks(rotation=45)\n",
        "plt.ylabel('Frequency')\n",
        "plt.show()"
      ]
    },
    {
      "cell_type": "code",
      "execution_count": 21,
      "metadata": {},
      "outputs": [],
      "source": [
        "MAXLEN = 128"
      ]
    },
    {
      "cell_type": "markdown",
      "metadata": {
        "id": "Cljkg1U5aZ3_"
      },
      "source": [
        "# Model selection and training"
      ]
    },
    {
      "cell_type": "markdown",
      "metadata": {
        "id": "4KxLQ2lCprkx"
      },
      "source": [
        "Different text classifier models were selected for experiments, \n",
        "including **distilbert**, **fasttext**, and **nbsvm**. \n",
        "\n",
        "- **DistilBERT** : Lightweight BERT variant for fast training.\n",
        "- **FastText** : Fast classifier based on bag of words model.\n",
        "- **NBSVM** : Traditional linear model, dependent on word frequency characteristics.\n",
        "\n",
        "For each model, the following steps need to be performed:\n",
        "\n",
        "- Use the 'texts_from_df' method to extract training and validation data from the DataFrame.\n",
        "- Define and compile the model.\n",
        "- Find the best parameters using an automatically adjusted learning rate and apply an early stop strategy to avoid overfitting.\n",
        "\n",
        "See all the models here: https://huggingface.co/transformers/pretrained_models.html\n"
      ]
    },
    {
      "cell_type": "code",
      "execution_count": 37,
      "metadata": {
        "id": "7vt85xwLVcRD"
      },
      "outputs": [
        {
          "name": "stdout",
          "output_type": "stream",
          "text": [
            "fasttext: a fastText-like model [http://arxiv.org/pdf/1607.01759.pdf]\n",
            "logreg: logistic regression using a trainable Embedding layer\n",
            "nbsvm: NBSVM model [http://www.aclweb.org/anthology/P12-2018]\n",
            "bigru: Bidirectional GRU with pretrained fasttext word vectors [https://fasttext.cc/docs/en/crawl-vectors.html]\n",
            "standard_gru: simple 2-layer GRU with randomly initialized embeddings\n",
            "bert: Bidirectional Encoder Representations from Transformers (BERT) from keras_bert [https://arxiv.org/abs/1810.04805]\n",
            "distilbert: distilled, smaller, and faster BERT from Hugging Face transformers [https://arxiv.org/abs/1910.01108]\n"
          ]
        }
      ],
      "source": [
        "# https://github.com/amaiya/ktrain/blob/master/tutorials/tutorial-04-text-classification.ipynb\n",
        "\n",
        "\n",
        "ktrain.text.print_text_classifiers()\n"
      ]
    },
    {
      "cell_type": "code",
      "execution_count": 38,
      "metadata": {
        "id": "mUuRH7iYqPSX"
      },
      "outputs": [],
      "source": [
        "target_names = ['not wellness','wellness']"
      ]
    },
    {
      "cell_type": "markdown",
      "metadata": {},
      "source": [
        "## Model A: distilbert"
      ]
    },
    {
      "cell_type": "code",
      "execution_count": 39,
      "metadata": {
        "colab": {
          "base_uri": "https://localhost:8080/",
          "height": 614,
          "referenced_widgets": [
            "686bfe2599ee4063b364b00152032fdf",
            "9ade76e5a67340729a5d6080793d2e68",
            "98e2b74d2b18485087b06a58ea1809b8",
            "2c6595b724494f40989d5d3c9ae85978",
            "0fa5e40c10094780886ac4ebc9a47605",
            "2bf04bc2c4664772bf5a4fd1ba424119",
            "ff05d10033a5400686589bd5ef9e679d",
            "c73d84ea7b0a489784579c0ee3cabe4b",
            "1f710967a1e545ef9e133d5ceba6101f",
            "99ed39fa78fa4352a64da1bd7a5856fb",
            "31ca976a18a84f5784021a1f3060b052",
            "daedf7586de248a784c46dd2622f567a",
            "5fba8dbfe97f4e58a80b1d156e929cdc",
            "d47edfeb77a841069f10bbc71b4b1d8e",
            "d4805798ef8e464d89dda480b5aac4dd",
            "aeb4dcf4afff457bb036e9b8a2610fdb",
            "5d264c6d6f054ad189bee286fcb9a83a",
            "e0e5ecf59ba3421d84d9c110a76166e8",
            "2d92cfd59c8d437c898e2bde496ad77c",
            "6def5ba6eb8a41aaaa6018bc00d1cbd3",
            "ad30af7dd71641c6b5312bf9f8838309",
            "d671ef3a8bb34ee6bf43cc86a9e581f4",
            "66ddb8d2cbca4a96b85dad27be3354de",
            "7481f0f921344af78383245a890f81bf",
            "c74ff799fc1b4453b18f61e3ec222ab2",
            "df3bb0b66b1844d6888c1a5e62a48f92",
            "4c182fa9918e439b86ff97d351334d96",
            "a817df7f9ed547ffba3cb4438102fd13",
            "0625083550fd44aa9244ab73585d3890",
            "34acdcc9318444ac8373fbe9723b5345",
            "4a8527f489b84a82a82bae075fa6c6a5",
            "0e008a7336184cea99c6d15034cf50ed",
            "c1adf5f0b7e14788b296fdfac359b349",
            "327d315f93ed486eab2f858fee55c282",
            "59c8b13d82464a4fa61a5c9263f20648",
            "ef5803dd10bf4ec89fc0774fa5cba2b2",
            "733eca849734442fb32ac48e726ac6b2",
            "f51458976a9c4538b39f77260ddb44f1",
            "ea26884d57d242a99cdf3cde300d5cdc",
            "33079885653a427bbf7a311b3146c042",
            "785bb69136944110a6f004ccdf3dd30d",
            "f967c0c128af461e82495621ae7fe3ac",
            "91259e7fa83646bebef67e4ddd1ede9e",
            "8a40173c86bc4183b83ad24544ff594a"
          ]
        },
        "id": "Hknt0exnpGRt",
        "outputId": "3e8fd02f-971c-427b-d418-fada315fd1e5"
      },
      "outputs": [
        {
          "name": "stdout",
          "output_type": "stream",
          "text": [
            "['not_H&W', 'H&W']\n",
            "        not_H&W  H&W\n",
            "153570      0.0  1.0\n",
            "64669       1.0  0.0\n",
            "64675       1.0  0.0\n",
            "182905      0.0  1.0\n",
            "81547       1.0  0.0\n",
            "['not_H&W', 'H&W']\n",
            "        not_H&W  H&W\n",
            "188546      0.0  1.0\n",
            "148991      1.0  0.0\n",
            "178669      1.0  0.0\n",
            "114093      0.0  1.0\n",
            "188654      0.0  1.0\n",
            "preprocessing train...\n",
            "language: en\n",
            "train sequence lengths:\n",
            "\tmean : 18\n",
            "\t95percentile : 30\n",
            "\t99percentile : 36\n"
          ]
        },
        {
          "data": {
            "text/html": [
              "\n",
              "<style>\n",
              "    /* Turns off some styling */\n",
              "    progress {\n",
              "        /* gets rid of default border in Firefox and Opera. */\n",
              "        border: none;\n",
              "        /* Needs to be in here for Safari polyfill so background images work as expected. */\n",
              "        background-size: auto;\n",
              "    }\n",
              "    progress:not([value]), progress:not([value])::-webkit-progress-bar {\n",
              "        background: repeating-linear-gradient(45deg, #7e7e7e, #7e7e7e 10px, #5c5c5c 10px, #5c5c5c 20px);\n",
              "    }\n",
              "    .progress-bar-interrupted, .progress-bar-interrupted::-webkit-progress-bar {\n",
              "        background: #F44336;\n",
              "    }\n",
              "</style>\n"
            ],
            "text/plain": [
              "<IPython.core.display.HTML object>"
            ]
          },
          "metadata": {},
          "output_type": "display_data"
        },
        {
          "data": {
            "text/html": [],
            "text/plain": [
              "<IPython.core.display.HTML object>"
            ]
          },
          "metadata": {},
          "output_type": "display_data"
        },
        {
          "name": "stdout",
          "output_type": "stream",
          "text": [
            "Is Multi-Label? False\n",
            "preprocessing test...\n",
            "language: en\n",
            "test sequence lengths:\n",
            "\tmean : 18\n",
            "\t95percentile : 31\n",
            "\t99percentile : 37\n"
          ]
        },
        {
          "data": {
            "text/html": [
              "\n",
              "<style>\n",
              "    /* Turns off some styling */\n",
              "    progress {\n",
              "        /* gets rid of default border in Firefox and Opera. */\n",
              "        border: none;\n",
              "        /* Needs to be in here for Safari polyfill so background images work as expected. */\n",
              "        background-size: auto;\n",
              "    }\n",
              "    progress:not([value]), progress:not([value])::-webkit-progress-bar {\n",
              "        background: repeating-linear-gradient(45deg, #7e7e7e, #7e7e7e 10px, #5c5c5c 10px, #5c5c5c 20px);\n",
              "    }\n",
              "    .progress-bar-interrupted, .progress-bar-interrupted::-webkit-progress-bar {\n",
              "        background: #F44336;\n",
              "    }\n",
              "</style>\n"
            ],
            "text/plain": [
              "<IPython.core.display.HTML object>"
            ]
          },
          "metadata": {},
          "output_type": "display_data"
        },
        {
          "data": {
            "text/html": [],
            "text/plain": [
              "<IPython.core.display.HTML object>"
            ]
          },
          "metadata": {},
          "output_type": "display_data"
        }
      ],
      "source": [
        "# release GPU memory for next training\n",
        "ktrain.release_gpu_memory()\n",
        "train1, val1, preprocess1 = ktrain.text.texts_from_df(\n",
        "    news_sample,\n",
        "    \"combined_text\",\n",
        "    label_columns=[\"H&W\"],\n",
        "    val_df=None,\n",
        "    max_features=20000,\n",
        "    maxlen=MAXLEN,\n",
        "    val_pct=0.1,\n",
        "    ngram_range=1,\n",
        "    preprocess_mode= \"distilbert\",\n",
        "    verbose=1\n",
        ")"
      ]
    },
    {
      "cell_type": "code",
      "execution_count": 40,
      "metadata": {
        "colab": {
          "base_uri": "https://localhost:8080/",
          "height": 49,
          "referenced_widgets": [
            "14476c84ec8649fba23fa1abf4be9b75",
            "9c12f0230e6c4185adc50725c36e0b9f",
            "32fa209238de44979f61a54bb46bf00e",
            "a4783dc97ec44db2af9eddba695111a1",
            "b06d688bb63d428180e0fff4f5cabe1c",
            "6facf0f204dc4ff4ab7fdcb17b7407b4",
            "fc7c4eb5be07435299b141abb56ad393",
            "66956559809d4dc297d96aa5858e84bc",
            "774e74a8a60f4f1cb9561c4a196c4289",
            "bdc23b5f6f3940d898b5876948c4e03b",
            "f1ed7f9d399d43468b15be82668bcf92"
          ]
        },
        "id": "wD_xu8e30bXp",
        "outputId": "da2afcb1-ac65-499c-fde4-622227273651"
      },
      "outputs": [
        {
          "name": "stdout",
          "output_type": "stream",
          "text": [
            "Is Multi-Label? False\n",
            "maxlen is 128\n",
            "done.\n"
          ]
        }
      ],
      "source": [
        "modelA = ktrain.text.text_classifier('distilbert', train1, preproc=preprocess1)\n",
        "learnerA = ktrain.get_learner(modelA, train_data=train1, val_data=val1, batch_size=BATCH_SIZE)"
      ]
    },
    {
      "cell_type": "code",
      "execution_count": 41,
      "metadata": {
        "colab": {
          "base_uri": "https://localhost:8080/"
        },
        "id": "qlv9dyx20VH6",
        "outputId": "032e2008-3827-4321-9ade-339559d0bd5d"
      },
      "outputs": [
        {
          "name": "stdout",
          "output_type": "stream",
          "text": [
            "simulating training for different learning rates... this may take a few moments...\n",
            "Epoch 1/6\n",
            "281/281 [==============================] - 2224s 8s/step - loss: 0.6731 - accuracy: 0.6152\n",
            "Epoch 2/6\n",
            "281/281 [==============================] - 2254s 8s/step - loss: 0.3703 - accuracy: 0.8562\n",
            "Epoch 3/6\n",
            "281/281 [==============================] - 2178s 8s/step - loss: 0.3847 - accuracy: 0.8097\n",
            "Epoch 4/6\n",
            "281/281 [==============================] - 2133s 8s/step - loss: 0.7027 - accuracy: 0.5013\n",
            "Epoch 5/6\n",
            "281/281 [==============================] - 867s 3s/step - loss: 14.5970 - accuracy: 0.5148\n",
            "\n",
            "\n",
            "done.\n",
            "Please invoke the Learner.lr_plot() method to visually inspect the loss plot to help identify the maximal learning rate associated with falling loss.\n"
          ]
        }
      ],
      "source": [
        "learnerA.lr_find(max_epochs=6)"
      ]
    },
    {
      "cell_type": "code",
      "execution_count": 42,
      "metadata": {
        "id": "xO5quriuQ80x"
      },
      "outputs": [
        {
          "name": "stdout",
          "output_type": "stream",
          "text": [
            "Three possible suggestions for LR from plot:\n",
            "\tLongest valley (red): 8.17E-06\n",
            "\tMin numerical gradient (purple): 3.31E-05\n",
            "\tMin loss divided by 10 (omitted from plot): 2.91E-05\n"
          ]
        },
        {
          "data": {
            "image/png": "[encoded data removed]",
            "text/plain": [
              "<Figure size 640x480 with 1 Axes>"
            ]
          },
          "metadata": {},
          "output_type": "display_data"
        }
      ],
      "source": [
        "learnerA.lr_plot(suggest = True)"
      ]
    },
    {
      "cell_type": "markdown",
      "metadata": {
        "id": "pKUljsZ5YTtQ"
      },
      "source": [
        "Now, use the tuned learner to train the best model.\n",
        "\n",
        "Here, we define a limit of 10 epochs, but in reality, this should stop much sooner due to early stopping."
      ]
    },
    {
      "cell_type": "code",
      "execution_count": 44,
      "metadata": {
        "id": "HX274hDU0j8R"
      },
      "outputs": [
        {
          "name": "stdout",
          "output_type": "stream",
          "text": [
            "\n",
            "\n",
            "begin training using triangular learning rate policy with max lr of 8.17e-06...\n",
            "Epoch 1/10\n",
            "282/282 [==============================] - 2289s 8s/step - loss: 0.6244 - accuracy: 0.6334 - val_loss: 0.4455 - val_accuracy: 0.8330\n",
            "Epoch 2/10\n",
            "282/282 [==============================] - 2356s 8s/step - loss: 0.3789 - accuracy: 0.8618 - val_loss: 0.4065 - val_accuracy: 0.8410\n",
            "Epoch 3/10\n",
            "282/282 [==============================] - 2485s 9s/step - loss: 0.3287 - accuracy: 0.8756 - val_loss: 0.3813 - val_accuracy: 0.8450\n",
            "Epoch 4/10\n",
            "282/282 [==============================] - 2330s 8s/step - loss: 0.3077 - accuracy: 0.8824 - val_loss: 0.3703 - val_accuracy: 0.8480\n",
            "Epoch 5/10\n",
            "282/282 [==============================] - 2135s 8s/step - loss: 0.2919 - accuracy: 0.8893 - val_loss: 0.3588 - val_accuracy: 0.8410\n",
            "Epoch 6/10\n",
            "282/282 [==============================] - 2172s 8s/step - loss: 0.2764 - accuracy: 0.8937 - val_loss: 0.3538 - val_accuracy: 0.8500\n",
            "Epoch 7/10\n",
            "282/282 [==============================] - 2363s 8s/step - loss: 0.2625 - accuracy: 0.8993 - val_loss: 0.3478 - val_accuracy: 0.8580\n",
            "Epoch 8/10\n",
            "282/282 [==============================] - 2170s 8s/step - loss: 0.2506 - accuracy: 0.9046 - val_loss: 0.3421 - val_accuracy: 0.8600\n",
            "Epoch 9/10\n",
            "282/282 [==============================] - ETA: 0s - loss: 0.2389 - accuracy: 0.9094Restoring model weights from the end of the best epoch: 8.\n",
            "282/282 [==============================] - 2079s 7s/step - loss: 0.2389 - accuracy: 0.9094 - val_loss: 0.3459 - val_accuracy: 0.8580\n",
            "Epoch 9: early stopping\n",
            "Weights from best epoch have been loaded into model.\n"
          ]
        }
      ],
      "source": [
        "history=learnerA.autofit(\n",
        "    8.17E-06,\n",
        "    checkpoint_folder='checkpoint',\n",
        "    epochs=10,\n",
        "    early_stopping=True\n",
        ")"
      ]
    },
    {
      "cell_type": "code",
      "execution_count": null,
      "metadata": {},
      "outputs": [
        {
          "name": "stdout",
          "output_type": "stream",
          "text": [
            "Model: \"tf_distil_bert_for_sequence_classification_1\"\n",
            "_________________________________________________________________\n",
            " Layer (type)                Output Shape              Param #   \n",
            "=================================================================\n",
            " distilbert (TFDistilBertMai  multiple                 66362880  \n",
            " nLayer)                                                         \n",
            "                                                                 \n",
            " pre_classifier (Dense)      multiple                  590592    \n",
            "                                                                 \n",
            " classifier (Dense)          multiple                  1538      \n",
            "                                                                 \n",
            " dropout_39 (Dropout)        multiple                  0         \n",
            "                                                                 \n",
            "=================================================================\n",
            "Total params: 66,955,010\n",
            "Trainable params: 66,955,010\n",
            "Non-trainable params: 0\n",
            "_________________________________________________________________\n"
          ]
        }
      ],
      "source": [
        "learnerA.model.summary()"
      ]
    },
    {
      "cell_type": "code",
      "execution_count": null,
      "metadata": {},
      "outputs": [
        {
          "name": "stdout",
          "output_type": "stream",
          "text": [
            "1/1 [==============================] - 3s 3s/step\n",
            "              precision    recall  f1-score   support\n",
            "\n",
            "           0       1.00      0.73      0.84        11\n",
            "           1       0.75      1.00      0.86         9\n",
            "\n",
            "    accuracy                           0.85        20\n",
            "   macro avg       0.88      0.86      0.85        20\n",
            "weighted avg       0.89      0.85      0.85        20\n",
            "\n"
          ]
        }
      ],
      "source": [
        "validation = learnerA.validate(val_data=val1, print_report=True)"
      ]
    },
    {
      "cell_type": "markdown",
      "metadata": {},
      "source": [
        "## Model B: fasttext"
      ]
    },
    {
      "cell_type": "code",
      "execution_count": null,
      "metadata": {},
      "outputs": [
        {
          "name": "stdout",
          "output_type": "stream",
          "text": [
            "['not_H&W', 'H&W']\n",
            "        not_H&W  H&W\n",
            "200500      0.0  1.0\n",
            "93416       1.0  0.0\n",
            "15612       1.0  0.0\n",
            "185936      0.0  1.0\n",
            "47959       1.0  0.0\n",
            "['not_H&W', 'H&W']\n",
            "        not_H&W  H&W\n",
            "78115       1.0  0.0\n",
            "114431      1.0  0.0\n",
            "15689       1.0  0.0\n",
            "16129       0.0  1.0\n",
            "188197      0.0  1.0\n",
            "language: en\n",
            "Word Counts: 20051\n",
            "Nrows: 9000\n",
            "9000 train sequences\n",
            "train sequence lengths:\n",
            "\tmean : 18\n",
            "\t95percentile : 30\n",
            "\t99percentile : 36\n",
            "x_train shape: (9000,512)\n",
            "y_train shape: (9000, 2)\n",
            "Is Multi-Label? False\n",
            "1000 test sequences\n",
            "test sequence lengths:\n",
            "\tmean : 17\n",
            "\t95percentile : 28\n",
            "\t99percentile : 33\n",
            "x_test shape: (1000,512)\n",
            "y_test shape: (1000, 2)\n"
          ]
        }
      ],
      "source": [
        "# release GPU memory for next training\n",
        "SAMPLE_COUNT = 20000\n",
        "\n",
        "ktrain.release_gpu_memory()\n",
        "train2, val2, preprocess2 = ktrain.text.texts_from_df(\n",
        "    news_sample,\n",
        "    \"combined_text\",\n",
        "    label_columns=[\"H&W\"],\n",
        "    val_df=None,\n",
        "    max_features=20000,\n",
        "    maxlen=MAXLEN,\n",
        "    val_pct=0.1,\n",
        "    ngram_range=1,\n",
        "    preprocess_mode= \"standard\",\n",
        "    verbose=1\n",
        ")"
      ]
    },
    {
      "cell_type": "code",
      "execution_count": 23,
      "metadata": {},
      "outputs": [
        {
          "name": "stdout",
          "output_type": "stream",
          "text": [
            "Is Multi-Label? False\n",
            "compiling word ID features...\n",
            "maxlen is 512\n",
            "done.\n"
          ]
        }
      ],
      "source": [
        "modelB = ktrain.text.text_classifier('fasttext', train2, preproc=preprocess2)\n",
        "learnerB = ktrain.get_learner(modelB, train_data=train2, val_data=val2, batch_size=BATCH_SIZE)"
      ]
    },
    {
      "cell_type": "code",
      "execution_count": 24,
      "metadata": {},
      "outputs": [
        {
          "name": "stdout",
          "output_type": "stream",
          "text": [
            "simulating training for different learning rates... this may take a few moments...\n",
            "Epoch 1/6\n",
            "282/282 [==============================] - 7s 22ms/step - loss: 1.0037 - accuracy: 0.5002\n",
            "Epoch 2/6\n",
            "282/282 [==============================] - 7s 24ms/step - loss: 0.9852 - accuracy: 0.4911\n",
            "Epoch 3/6\n",
            "282/282 [==============================] - 7s 24ms/step - loss: 0.8972 - accuracy: 0.5296\n",
            "Epoch 4/6\n",
            "282/282 [==============================] - 6s 23ms/step - loss: 0.5884 - accuracy: 0.7004\n",
            "Epoch 5/6\n",
            "282/282 [==============================] - 7s 23ms/step - loss: 0.6322 - accuracy: 0.6284\n",
            "Epoch 6/6\n",
            "282/282 [==============================] - 3s 9ms/step - loss: 141.0912 - accuracy: 0.4899\n",
            "\n",
            "\n",
            "done.\n",
            "Please invoke the Learner.lr_plot() method to visually inspect the loss plot to help identify the maximal learning rate associated with falling loss.\n"
          ]
        }
      ],
      "source": [
        "learnerB.lr_find(max_epochs=6)"
      ]
    },
    {
      "cell_type": "code",
      "execution_count": 25,
      "metadata": {},
      "outputs": [
        {
          "name": "stdout",
          "output_type": "stream",
          "text": [
            "Three possible suggestions for LR from plot:\n",
            "\tLongest valley (red): 2.95E-04\n",
            "\tMin numerical gradient (purple): 1.52E-02\n",
            "\tMin loss divided by 10 (omitted from plot): 4.57E-03\n"
          ]
        },
        {
          "data": {
            "image/png": "[encoded data removed]",
            "text/plain": [
              "<Figure size 640x480 with 1 Axes>"
            ]
          },
          "metadata": {},
          "output_type": "display_data"
        }
      ],
      "source": [
        "\n",
        "learnerB.lr_plot(suggest = True)"
      ]
    },
    {
      "cell_type": "code",
      "execution_count": 26,
      "metadata": {},
      "outputs": [
        {
          "name": "stdout",
          "output_type": "stream",
          "text": [
            "\n",
            "\n",
            "begin training using triangular learning rate policy with max lr of 0.000295...\n",
            "Epoch 1/10\n",
            "282/282 [==============================] - 8s 24ms/step - loss: 0.9182 - accuracy: 0.5156 - val_loss: 0.6867 - val_accuracy: 0.6300\n",
            "Epoch 2/10\n",
            "282/282 [==============================] - 7s 25ms/step - loss: 0.7902 - accuracy: 0.5636 - val_loss: 0.6311 - val_accuracy: 0.7810\n",
            "Epoch 3/10\n",
            "282/282 [==============================] - 7s 24ms/step - loss: 0.7001 - accuracy: 0.6118 - val_loss: 0.5471 - val_accuracy: 0.8120\n",
            "Epoch 4/10\n",
            "282/282 [==============================] - 7s 23ms/step - loss: 0.6279 - accuracy: 0.6618 - val_loss: 0.4977 - val_accuracy: 0.8260\n",
            "Epoch 5/10\n",
            "282/282 [==============================] - 7s 24ms/step - loss: 0.5733 - accuracy: 0.7058 - val_loss: 0.4566 - val_accuracy: 0.8400\n",
            "Epoch 6/10\n",
            "282/282 [==============================] - 7s 25ms/step - loss: 0.5074 - accuracy: 0.7493 - val_loss: 0.4229 - val_accuracy: 0.8470\n",
            "Epoch 7/10\n",
            "282/282 [==============================] - 7s 25ms/step - loss: 0.4639 - accuracy: 0.7836 - val_loss: 0.3925 - val_accuracy: 0.8540\n",
            "Epoch 8/10\n",
            "282/282 [==============================] - 7s 24ms/step - loss: 0.4178 - accuracy: 0.8124 - val_loss: 0.3702 - val_accuracy: 0.8560\n",
            "Epoch 9/10\n",
            "282/282 [==============================] - 7s 24ms/step - loss: 0.3756 - accuracy: 0.8331 - val_loss: 0.3539 - val_accuracy: 0.8600\n",
            "Epoch 10/10\n",
            "282/282 [==============================] - 7s 24ms/step - loss: 0.3427 - accuracy: 0.8509 - val_loss: 0.3385 - val_accuracy: 0.8590\n",
            "Weights from best epoch have been loaded into model.\n"
          ]
        }
      ],
      "source": [
        "history=learnerB.autofit(\n",
        "    2.95E-04,\n",
        "    checkpoint_folder='checkpoint',\n",
        "    epochs=10,\n",
        "    early_stopping=True\n",
        ")"
      ]
    },
    {
      "cell_type": "code",
      "execution_count": 59,
      "metadata": {},
      "outputs": [
        {
          "name": "stdout",
          "output_type": "stream",
          "text": [
            "Model: \"sequential\"\n",
            "_________________________________________________________________\n",
            " Layer (type)                Output Shape              Param #   \n",
            "=================================================================\n",
            " embedding (Embedding)       (None, 128, 64)           1280000   \n",
            "                                                                 \n",
            " spatial_dropout1d (SpatialD  (None, 128, 64)          0         \n",
            " ropout1D)                                                       \n",
            "                                                                 \n",
            " global_max_pooling1d (Globa  (None, 64)               0         \n",
            " lMaxPooling1D)                                                  \n",
            "                                                                 \n",
            " batch_normalization (BatchN  (None, 64)               256       \n",
            " ormalization)                                                   \n",
            "                                                                 \n",
            " dense (Dense)               (None, 64)                4160      \n",
            "                                                                 \n",
            " dropout (Dropout)           (None, 64)                0         \n",
            "                                                                 \n",
            " dense_1 (Dense)             (None, 2)                 130       \n",
            "                                                                 \n",
            "=================================================================\n",
            "Total params: 1,284,546\n",
            "Trainable params: 1,284,418\n",
            "Non-trainable params: 128\n",
            "_________________________________________________________________\n"
          ]
        }
      ],
      "source": [
        "learnerB.model.summary()"
      ]
    },
    {
      "cell_type": "code",
      "execution_count": 60,
      "metadata": {},
      "outputs": [
        {
          "name": "stdout",
          "output_type": "stream",
          "text": [
            "32/32 [==============================] - 0s 2ms/step\n",
            "              precision    recall  f1-score   support\n",
            "\n",
            "           0       0.85      0.89      0.87       509\n",
            "           1       0.88      0.84      0.86       491\n",
            "\n",
            "    accuracy                           0.86      1000\n",
            "   macro avg       0.86      0.86      0.86      1000\n",
            "weighted avg       0.86      0.86      0.86      1000\n",
            "\n"
          ]
        }
      ],
      "source": [
        "validation = learnerB.validate(val_data=val2, print_report=True)"
      ]
    },
    {
      "cell_type": "markdown",
      "metadata": {},
      "source": [
        "## Model C: nbsvm\n",
        "\n"
      ]
    },
    {
      "cell_type": "code",
      "execution_count": null,
      "metadata": {},
      "outputs": [
        {
          "name": "stdout",
          "output_type": "stream",
          "text": [
            "Is Multi-Label? False\n",
            "compiling word ID features...\n",
            "maxlen is 128\n",
            "done.\n"
          ]
        }
      ],
      "source": [
        "modelC = ktrain.text.text_classifier('fasttext', train2, preproc=preprocess2)\n",
        "learnerC = ktrain.get_learner(modelC, train_data=train2, val_data=val2, batch_size=BATCH_SIZE)"
      ]
    },
    {
      "cell_type": "code",
      "execution_count": null,
      "metadata": {},
      "outputs": [
        {
          "name": "stdout",
          "output_type": "stream",
          "text": [
            "simulating training for different learning rates... this may take a few moments...\n",
            "Epoch 1/6\n",
            "6/6 [==============================] - 1s 18ms/step - loss: 0.8948 - accuracy: 0.4778\n",
            "Epoch 2/6\n",
            "6/6 [==============================] - 0s 21ms/step - loss: 0.9760 - accuracy: 0.4889\n",
            "Epoch 3/6\n",
            "6/6 [==============================] - 0s 21ms/step - loss: 0.9873 - accuracy: 0.5167\n",
            "Epoch 4/6\n",
            "6/6 [==============================] - 0s 24ms/step - loss: 0.8259 - accuracy: 0.5833\n",
            "Epoch 5/6\n",
            "6/6 [==============================] - 0s 21ms/step - loss: 0.6274 - accuracy: 0.6722\n",
            "Epoch 6/6\n",
            "6/6 [==============================] - 0s 14ms/step - loss: 47.7719 - accuracy: 0.6328\n",
            "\n",
            "\n",
            "done.\n",
            "Please invoke the Learner.lr_plot() method to visually inspect the loss plot to help identify the maximal learning rate associated with falling loss.\n"
          ]
        },
        {
          "name": "stderr",
          "output_type": "stream",
          "text": [
            "c:\\Users\\SEELE\\.conda\\envs\\text310\\lib\\site-packages\\ktrain\\lroptimize\\lrfinder.py:267: UserWarning: Shape of array too small to calculate a numerical gradient, at least (edge_order + 1) elements are required.\n",
            "  warnings.warn(str(e))\n"
          ]
        }
      ],
      "source": [
        "learnerC.lr_find(max_epochs=6)"
      ]
    },
    {
      "cell_type": "code",
      "execution_count": null,
      "metadata": {},
      "outputs": [
        {
          "name": "stdout",
          "output_type": "stream",
          "text": [
            "Failed to compute the gradients, there might not be enough points.\n",
            "Plot displayed without suggestion.\n"
          ]
        },
        {
          "data": {
            "image/png": "[encoded data removed]",
            "text/plain": [
              "<Figure size 640x480 with 1 Axes>"
            ]
          },
          "metadata": {},
          "output_type": "display_data"
        }
      ],
      "source": [
        "learnerC.lr_plot(suggest = True)"
      ]
    },
    {
      "cell_type": "code",
      "execution_count": null,
      "metadata": {},
      "outputs": [
        {
          "name": "stdout",
          "output_type": "stream",
          "text": [
            "\n",
            "\n",
            "begin training using triangular learning rate policy with max lr of 0.000257...\n",
            "Epoch 1/10\n",
            "6/6 [==============================] - 1s 168ms/step - loss: 0.9408 - accuracy: 0.5111 - val_loss: 0.6953 - val_accuracy: 0.4500\n",
            "Epoch 2/10\n",
            "6/6 [==============================] - 0s 46ms/step - loss: 0.8295 - accuracy: 0.5389 - val_loss: 0.6949 - val_accuracy: 0.4500\n",
            "Epoch 3/10\n",
            "6/6 [==============================] - 0s 32ms/step - loss: 0.8514 - accuracy: 0.5500 - val_loss: 0.6946 - val_accuracy: 0.4500\n",
            "Epoch 4/10\n",
            "6/6 [==============================] - 0s 36ms/step - loss: 0.9257 - accuracy: 0.5444 - val_loss: 0.6943 - val_accuracy: 0.4500\n",
            "Epoch 5/10\n",
            "6/6 [==============================] - 0s 30ms/step - loss: 0.8097 - accuracy: 0.5500 - val_loss: 0.6940 - val_accuracy: 0.4500\n",
            "Epoch 6/10\n",
            "6/6 [==============================] - 0s 31ms/step - loss: 0.8650 - accuracy: 0.5667 - val_loss: 0.6937 - val_accuracy: 0.4500\n",
            "Epoch 7/10\n",
            "6/6 [==============================] - 0s 30ms/step - loss: 0.7795 - accuracy: 0.5778 - val_loss: 0.6933 - val_accuracy: 0.4500\n",
            "Epoch 8/10\n",
            "6/6 [==============================] - 0s 33ms/step - loss: 0.8111 - accuracy: 0.5611 - val_loss: 0.6930 - val_accuracy: 0.5000\n",
            "Epoch 9/10\n",
            "6/6 [==============================] - 0s 35ms/step - loss: 0.8322 - accuracy: 0.5111 - val_loss: 0.6926 - val_accuracy: 0.5000\n",
            "Epoch 10/10\n",
            "6/6 [==============================] - 0s 34ms/step - loss: 0.8158 - accuracy: 0.5778 - val_loss: 0.6922 - val_accuracy: 0.5000\n",
            "Weights from best epoch have been loaded into model.\n"
          ]
        }
      ],
      "source": [
        "history=learnerC.autofit(\n",
        "    2.57E-04,\n",
        "    checkpoint_folder='checkpoint',\n",
        "    epochs=10,\n",
        "    early_stopping=True\n",
        ")"
      ]
    },
    {
      "cell_type": "code",
      "execution_count": null,
      "metadata": {},
      "outputs": [
        {
          "name": "stdout",
          "output_type": "stream",
          "text": [
            "Model: \"sequential_1\"\n",
            "_________________________________________________________________\n",
            " Layer (type)                Output Shape              Param #   \n",
            "=================================================================\n",
            " embedding_1 (Embedding)     (None, 128, 64)           1280000   \n",
            "                                                                 \n",
            " spatial_dropout1d_1 (Spatia  (None, 128, 64)          0         \n",
            " lDropout1D)                                                     \n",
            "                                                                 \n",
            " global_max_pooling1d_1 (Glo  (None, 64)               0         \n",
            " balMaxPooling1D)                                                \n",
            "                                                                 \n",
            " batch_normalization_1 (Batc  (None, 64)               256       \n",
            " hNormalization)                                                 \n",
            "                                                                 \n",
            " dense_2 (Dense)             (None, 64)                4160      \n",
            "                                                                 \n",
            " dropout_1 (Dropout)         (None, 64)                0         \n",
            "                                                                 \n",
            " dense_3 (Dense)             (None, 2)                 130       \n",
            "                                                                 \n",
            "=================================================================\n",
            "Total params: 1,284,546\n",
            "Trainable params: 1,284,418\n",
            "Non-trainable params: 128\n",
            "_________________________________________________________________\n"
          ]
        }
      ],
      "source": [
        "learnerC.model.summary()"
      ]
    },
    {
      "cell_type": "code",
      "execution_count": null,
      "metadata": {},
      "outputs": [
        {
          "name": "stdout",
          "output_type": "stream",
          "text": [
            "1/1 [==============================] - 0s 86ms/step\n",
            "              precision    recall  f1-score   support\n",
            "\n",
            "           0       1.00      0.17      0.29        12\n",
            "           1       0.44      1.00      0.62         8\n",
            "\n",
            "    accuracy                           0.50        20\n",
            "   macro avg       0.72      0.58      0.45        20\n",
            "weighted avg       0.78      0.50      0.42        20\n",
            "\n"
          ]
        }
      ],
      "source": [
        "validation = learnerC.validate(val_data=val2, print_report=True)"
      ]
    },
    {
      "cell_type": "markdown",
      "metadata": {},
      "source": [
        "# Model evaluation"
      ]
    },
    {
      "cell_type": "markdown",
      "metadata": {
        "id": "zOIwao0SpMsd"
      },
      "source": [
        "# Predictor\n",
        "\n",
        "Get the predictor"
      ]
    },
    {
      "cell_type": "code",
      "execution_count": 45,
      "metadata": {
        "id": "ti1VfWebw-a3"
      },
      "outputs": [],
      "source": [
        "predictor = ktrain.get_predictor(learnerA.model, preproc=preprocess1)"
      ]
    },
    {
      "cell_type": "markdown",
      "metadata": {
        "id": "G9sqftuppYNb"
      },
      "source": [
        "Optionally, uncomment this code to save the predictor and reload it later. Note, the saved models can be quite large and may quickly use up space on your Google Drive."
      ]
    },
    {
      "cell_type": "code",
      "execution_count": 50,
      "metadata": {
        "id": "EqUostfKpStB"
      },
      "outputs": [],
      "source": [
        "predictor.save(\"./Model\")"
      ]
    },
    {
      "cell_type": "markdown",
      "metadata": {
        "id": "vB1_AaQBp35M"
      },
      "source": [
        "Let's go ahead and make a little set of test documents to check out"
      ]
    },
    {
      "cell_type": "code",
      "execution_count": 47,
      "metadata": {
        "id": "Phek3FTqqAIl"
      },
      "outputs": [],
      "source": [
        "test_docs = [\n",
        "'Stress May Be Your Heart’s Worst Enemy Psychological stress activates the fear center in the brain, setting into motion a cascade of reactions that can lead to heart attacks and strokes.',\n",
        "'Exercising to Slim Down? Try Getting Bigger. It’s high time for women to reclaim the real strength behind exercise.',\n",
        "'What Are Your Food Resolutions for the New Year? Join us for the Eat Well Challenge starting in January.',\n",
        "'Why We All Need to Have More Fun. Prioritizing fun may feel impossible right now. But this four-step plan will help you rediscover how to feel more alive.',\n",
        "'Cuomo Will Not Be Prosecuted in Groping Case, Albany D.A. Says. The district attorney described the woman who said former Gov. Andrew Cuomo had groped her as “credible,” but added that proving her allegation would be difficult.',\n",
        "'A Film Captures Jewish Life in a Polish Town Before the Nazis Arrived. A documentary based on a home movie shot by an American in 1938 provides a look at the vibrancy of a Jewish community in Europe just before the Holocaust.'\n",
        "             ]"
      ]
    },
    {
      "cell_type": "code",
      "execution_count": 48,
      "metadata": {
        "id": "fQbBKDiPb9FO"
      },
      "outputs": [
        {
          "name": "stdout",
          "output_type": "stream",
          "text": [
            "1/1 [==============================] - 2s 2s/step\n",
            "---------------------------\n",
            "The probability this is healthy is 0.9787411\n",
            "Stress May Be Your Heart’s Worst Enemy Psychological stress activates the fear center in the brain, setting into motion a cascade of reactions that can lead to heart attacks and strokes.\n",
            "1/1 [==============================] - 0s 130ms/step\n",
            "---------------------------\n",
            "The probability this is healthy is 0.9778286\n",
            "Exercising to Slim Down? Try Getting Bigger. It’s high time for women to reclaim the real strength behind exercise.\n",
            "1/1 [==============================] - 0s 129ms/step\n",
            "---------------------------\n",
            "The probability this is healthy is 0.4927756\n",
            "What Are Your Food Resolutions for the New Year? Join us for the Eat Well Challenge starting in January.\n",
            "1/1 [==============================] - 0s 122ms/step\n",
            "---------------------------\n",
            "The probability this is healthy is 0.59254986\n",
            "Why We All Need to Have More Fun. Prioritizing fun may feel impossible right now. But this four-step plan will help you rediscover how to feel more alive.\n",
            "1/1 [==============================] - 0s 146ms/step\n",
            "---------------------------\n",
            "The probability this is healthy is 0.015689291\n",
            "Cuomo Will Not Be Prosecuted in Groping Case, Albany D.A. Says. The district attorney described the woman who said former Gov. Andrew Cuomo had groped her as “credible,” but added that proving her allegation would be difficult.\n",
            "1/1 [==============================] - 0s 128ms/step\n",
            "---------------------------\n",
            "The probability this is healthy is 0.019631853\n",
            "A Film Captures Jewish Life in a Polish Town Before the Nazis Arrived. A documentary based on a home movie shot by an American in 1938 provides a look at the vibrancy of a Jewish community in Europe just before the Holocaust.\n"
          ]
        }
      ],
      "source": [
        "for i, text in enumerate(test_docs):\n",
        "  probs = predictor.predict(text, return_proba=True)\n",
        "  print(\"---------------------------\")\n",
        "  print('The probability this is healthy is %s' % probs[1])\n",
        "  print(text)"
      ]
    },
    {
      "cell_type": "markdown",
      "metadata": {
        "id": "hha7-WCOr0RN"
      },
      "source": [
        "*These* are pretty obvious examples, but it works exactly as expected!"
      ]
    },
    {
      "cell_type": "code",
      "execution_count": 49,
      "metadata": {
        "id": "KVpTNeKqXhov"
      },
      "outputs": [
        {
          "name": "stderr",
          "output_type": "stream",
          "text": [
            "c:\\Users\\SEELE\\.conda\\envs\\text310\\lib\\site-packages\\ktrain\\text\\predictor.py:137: UserWarning: ktrain requires a forked version of eli5 to support tf.keras. Install with: pip install https://github.com/amaiya/eli5-tf/archive/refs/heads/master.zip\n",
            "  warnings.warn(msg)\n"
          ]
        }
      ],
      "source": [
        "predictor.explain('Diversity is the key to a healthy society. Here is what we need to do to make america a more equitable place to live for all.')"
      ]
    },
    {
      "cell_type": "markdown",
      "metadata": {
        "id": "SWgUdJuxsJ1r"
      },
      "source": [
        "But you can see, this algorithm is far from perfect. Here you can see that it's probably got too high of an emphasis on the word \"healthy.\""
      ]
    }
  ],
  "metadata": {
    "accelerator": "GPU",
    "colab": {
      "machine_shape": "hm",
      "provenance": []
    },
    "kernelspec": {
      "display_name": "text310",
      "language": "python",
      "name": "python3"
    },
    "language_info": {
      "codemirror_mode": {
        "name": "ipython",
        "version": 3
      },
      "file_extension": ".py",
      "mimetype": "text/x-python",
      "name": "python",
      "nbconvert_exporter": "python",
      "pygments_lexer": "ipython3",
      "version": "3.10.16"
    },
    "widgets": {
      "application/vnd.jupyter.widget-state+json": {
        "0625083550fd44aa9244ab73585d3890": {
          "model_module": "@jupyter-widgets/controls",
          "model_module_version": "1.5.0",
          "model_name": "DescriptionStyleModel",
          "state": {
            "_model_module": "@jupyter-widgets/controls",
            "_model_module_version": "1.5.0",
            "_model_name": "DescriptionStyleModel",
            "_view_count": null,
            "_view_module": "@jupyter-widgets/base",
            "_view_module_version": "1.2.0",
            "_view_name": "StyleView",
            "description_width": ""
          }
        },
        "0e008a7336184cea99c6d15034cf50ed": {
          "model_module": "@jupyter-widgets/base",
          "model_module_version": "1.2.0",
          "model_name": "LayoutModel",
          "state": {
            "_model_module": "@jupyter-widgets/base",
            "_model_module_version": "1.2.0",
            "_model_name": "LayoutModel",
            "_view_count": null,
            "_view_module": "@jupyter-widgets/base",
            "_view_module_version": "1.2.0",
            "_view_name": "LayoutView",
            "align_content": null,
            "align_items": null,
            "align_self": null,
            "border": null,
            "bottom": null,
            "display": null,
            "flex": null,
            "flex_flow": null,
            "grid_area": null,
            "grid_auto_columns": null,
            "grid_auto_flow": null,
            "grid_auto_rows": null,
            "grid_column": null,
            "grid_gap": null,
            "grid_row": null,
            "grid_template_areas": null,
            "grid_template_columns": null,
            "grid_template_rows": null,
            "height": null,
            "justify_content": null,
            "justify_items": null,
            "left": null,
            "margin": null,
            "max_height": null,
            "max_width": null,
            "min_height": null,
            "min_width": null,
            "object_fit": null,
            "object_position": null,
            "order": null,
            "overflow": null,
            "overflow_x": null,
            "overflow_y": null,
            "padding": null,
            "right": null,
            "top": null,
            "visibility": null,
            "width": null
          }
        },
        "0fa5e40c10094780886ac4ebc9a47605": {
          "model_module": "@jupyter-widgets/base",
          "model_module_version": "1.2.0",
          "model_name": "LayoutModel",
          "state": {
            "_model_module": "@jupyter-widgets/base",
            "_model_module_version": "1.2.0",
            "_model_name": "LayoutModel",
            "_view_count": null,
            "_view_module": "@jupyter-widgets/base",
            "_view_module_version": "1.2.0",
            "_view_name": "LayoutView",
            "align_content": null,
            "align_items": null,
            "align_self": null,
            "border": null,
            "bottom": null,
            "display": null,
            "flex": null,
            "flex_flow": null,
            "grid_area": null,
            "grid_auto_columns": null,
            "grid_auto_flow": null,
            "grid_auto_rows": null,
            "grid_column": null,
            "grid_gap": null,
            "grid_row": null,
            "grid_template_areas": null,
            "grid_template_columns": null,
            "grid_template_rows": null,
            "height": null,
            "justify_content": null,
            "justify_items": null,
            "left": null,
            "margin": null,
            "max_height": null,
            "max_width": null,
            "min_height": null,
            "min_width": null,
            "object_fit": null,
            "object_position": null,
            "order": null,
            "overflow": null,
            "overflow_x": null,
            "overflow_y": null,
            "padding": null,
            "right": null,
            "top": null,
            "visibility": null,
            "width": null
          }
        },
        "14476c84ec8649fba23fa1abf4be9b75": {
          "model_module": "@jupyter-widgets/controls",
          "model_module_version": "1.5.0",
          "model_name": "HBoxModel",
          "state": {
            "_dom_classes": [],
            "_model_module": "@jupyter-widgets/controls",
            "_model_module_version": "1.5.0",
            "_model_name": "HBoxModel",
            "_view_count": null,
            "_view_module": "@jupyter-widgets/controls",
            "_view_module_version": "1.5.0",
            "_view_name": "HBoxView",
            "box_style": "",
            "children": [
              "IPY_MODEL_9c12f0230e6c4185adc50725c36e0b9f",
              "IPY_MODEL_32fa209238de44979f61a54bb46bf00e",
              "IPY_MODEL_a4783dc97ec44db2af9eddba695111a1"
            ],
            "layout": "IPY_MODEL_b06d688bb63d428180e0fff4f5cabe1c"
          }
        },
        "1f710967a1e545ef9e133d5ceba6101f": {
          "model_module": "@jupyter-widgets/controls",
          "model_module_version": "1.5.0",
          "model_name": "ProgressStyleModel",
          "state": {
            "_model_module": "@jupyter-widgets/controls",
            "_model_module_version": "1.5.0",
            "_model_name": "ProgressStyleModel",
            "_view_count": null,
            "_view_module": "@jupyter-widgets/base",
            "_view_module_version": "1.2.0",
            "_view_name": "StyleView",
            "bar_color": null,
            "description_width": ""
          }
        },
        "2bf04bc2c4664772bf5a4fd1ba424119": {
          "model_module": "@jupyter-widgets/base",
          "model_module_version": "1.2.0",
          "model_name": "LayoutModel",
          "state": {
            "_model_module": "@jupyter-widgets/base",
            "_model_module_version": "1.2.0",
            "_model_name": "LayoutModel",
            "_view_count": null,
            "_view_module": "@jupyter-widgets/base",
            "_view_module_version": "1.2.0",
            "_view_name": "LayoutView",
            "align_content": null,
            "align_items": null,
            "align_self": null,
            "border": null,
            "bottom": null,
            "display": null,
            "flex": null,
            "flex_flow": null,
            "grid_area": null,
            "grid_auto_columns": null,
            "grid_auto_flow": null,
            "grid_auto_rows": null,
            "grid_column": null,
            "grid_gap": null,
            "grid_row": null,
            "grid_template_areas": null,
            "grid_template_columns": null,
            "grid_template_rows": null,
            "height": null,
            "justify_content": null,
            "justify_items": null,
            "left": null,
            "margin": null,
            "max_height": null,
            "max_width": null,
            "min_height": null,
            "min_width": null,
            "object_fit": null,
            "object_position": null,
            "order": null,
            "overflow": null,
            "overflow_x": null,
            "overflow_y": null,
            "padding": null,
            "right": null,
            "top": null,
            "visibility": null,
            "width": null
          }
        },
        "2c6595b724494f40989d5d3c9ae85978": {
          "model_module": "@jupyter-widgets/controls",
          "model_module_version": "1.5.0",
          "model_name": "HTMLModel",
          "state": {
            "_dom_classes": [],
            "_model_module": "@jupyter-widgets/controls",
            "_model_module_version": "1.5.0",
            "_model_name": "HTMLModel",
            "_view_count": null,
            "_view_module": "@jupyter-widgets/controls",
            "_view_module_version": "1.5.0",
            "_view_name": "HTMLView",
            "description": "",
            "description_tooltip": null,
            "layout": "IPY_MODEL_99ed39fa78fa4352a64da1bd7a5856fb",
            "placeholder": "​",
            "style": "IPY_MODEL_31ca976a18a84f5784021a1f3060b052",
            "value": " 483/483 [00:00&lt;00:00, 31.6kB/s]"
          }
        },
        "2d92cfd59c8d437c898e2bde496ad77c": {
          "model_module": "@jupyter-widgets/base",
          "model_module_version": "1.2.0",
          "model_name": "LayoutModel",
          "state": {
            "_model_module": "@jupyter-widgets/base",
            "_model_module_version": "1.2.0",
            "_model_name": "LayoutModel",
            "_view_count": null,
            "_view_module": "@jupyter-widgets/base",
            "_view_module_version": "1.2.0",
            "_view_name": "LayoutView",
            "align_content": null,
            "align_items": null,
            "align_self": null,
            "border": null,
            "bottom": null,
            "display": null,
            "flex": null,
            "flex_flow": null,
            "grid_area": null,
            "grid_auto_columns": null,
            "grid_auto_flow": null,
            "grid_auto_rows": null,
            "grid_column": null,
            "grid_gap": null,
            "grid_row": null,
            "grid_template_areas": null,
            "grid_template_columns": null,
            "grid_template_rows": null,
            "height": null,
            "justify_content": null,
            "justify_items": null,
            "left": null,
            "margin": null,
            "max_height": null,
            "max_width": null,
            "min_height": null,
            "min_width": null,
            "object_fit": null,
            "object_position": null,
            "order": null,
            "overflow": null,
            "overflow_x": null,
            "overflow_y": null,
            "padding": null,
            "right": null,
            "top": null,
            "visibility": null,
            "width": null
          }
        },
        "31ca976a18a84f5784021a1f3060b052": {
          "model_module": "@jupyter-widgets/controls",
          "model_module_version": "1.5.0",
          "model_name": "DescriptionStyleModel",
          "state": {
            "_model_module": "@jupyter-widgets/controls",
            "_model_module_version": "1.5.0",
            "_model_name": "DescriptionStyleModel",
            "_view_count": null,
            "_view_module": "@jupyter-widgets/base",
            "_view_module_version": "1.2.0",
            "_view_name": "StyleView",
            "description_width": ""
          }
        },
        "327d315f93ed486eab2f858fee55c282": {
          "model_module": "@jupyter-widgets/controls",
          "model_module_version": "1.5.0",
          "model_name": "HBoxModel",
          "state": {
            "_dom_classes": [],
            "_model_module": "@jupyter-widgets/controls",
            "_model_module_version": "1.5.0",
            "_model_name": "HBoxModel",
            "_view_count": null,
            "_view_module": "@jupyter-widgets/controls",
            "_view_module_version": "1.5.0",
            "_view_name": "HBoxView",
            "box_style": "",
            "children": [
              "IPY_MODEL_59c8b13d82464a4fa61a5c9263f20648",
              "IPY_MODEL_ef5803dd10bf4ec89fc0774fa5cba2b2",
              "IPY_MODEL_733eca849734442fb32ac48e726ac6b2"
            ],
            "layout": "IPY_MODEL_f51458976a9c4538b39f77260ddb44f1"
          }
        },
        "32fa209238de44979f61a54bb46bf00e": {
          "model_module": "@jupyter-widgets/controls",
          "model_module_version": "1.5.0",
          "model_name": "FloatProgressModel",
          "state": {
            "_dom_classes": [],
            "_model_module": "@jupyter-widgets/controls",
            "_model_module_version": "1.5.0",
            "_model_name": "FloatProgressModel",
            "_view_count": null,
            "_view_module": "@jupyter-widgets/controls",
            "_view_module_version": "1.5.0",
            "_view_name": "ProgressView",
            "bar_style": "success",
            "description": "",
            "description_tooltip": null,
            "layout": "IPY_MODEL_66956559809d4dc297d96aa5858e84bc",
            "max": 363423424,
            "min": 0,
            "orientation": "horizontal",
            "style": "IPY_MODEL_774e74a8a60f4f1cb9561c4a196c4289",
            "value": 363423424
          }
        },
        "33079885653a427bbf7a311b3146c042": {
          "model_module": "@jupyter-widgets/controls",
          "model_module_version": "1.5.0",
          "model_name": "DescriptionStyleModel",
          "state": {
            "_model_module": "@jupyter-widgets/controls",
            "_model_module_version": "1.5.0",
            "_model_name": "DescriptionStyleModel",
            "_view_count": null,
            "_view_module": "@jupyter-widgets/base",
            "_view_module_version": "1.2.0",
            "_view_name": "StyleView",
            "description_width": ""
          }
        },
        "34acdcc9318444ac8373fbe9723b5345": {
          "model_module": "@jupyter-widgets/base",
          "model_module_version": "1.2.0",
          "model_name": "LayoutModel",
          "state": {
            "_model_module": "@jupyter-widgets/base",
            "_model_module_version": "1.2.0",
            "_model_name": "LayoutModel",
            "_view_count": null,
            "_view_module": "@jupyter-widgets/base",
            "_view_module_version": "1.2.0",
            "_view_name": "LayoutView",
            "align_content": null,
            "align_items": null,
            "align_self": null,
            "border": null,
            "bottom": null,
            "display": null,
            "flex": null,
            "flex_flow": null,
            "grid_area": null,
            "grid_auto_columns": null,
            "grid_auto_flow": null,
            "grid_auto_rows": null,
            "grid_column": null,
            "grid_gap": null,
            "grid_row": null,
            "grid_template_areas": null,
            "grid_template_columns": null,
            "grid_template_rows": null,
            "height": null,
            "justify_content": null,
            "justify_items": null,
            "left": null,
            "margin": null,
            "max_height": null,
            "max_width": null,
            "min_height": null,
            "min_width": null,
            "object_fit": null,
            "object_position": null,
            "order": null,
            "overflow": null,
            "overflow_x": null,
            "overflow_y": null,
            "padding": null,
            "right": null,
            "top": null,
            "visibility": null,
            "width": null
          }
        },
        "4a8527f489b84a82a82bae075fa6c6a5": {
          "model_module": "@jupyter-widgets/controls",
          "model_module_version": "1.5.0",
          "model_name": "ProgressStyleModel",
          "state": {
            "_model_module": "@jupyter-widgets/controls",
            "_model_module_version": "1.5.0",
            "_model_name": "ProgressStyleModel",
            "_view_count": null,
            "_view_module": "@jupyter-widgets/base",
            "_view_module_version": "1.2.0",
            "_view_name": "StyleView",
            "bar_color": null,
            "description_width": ""
          }
        },
        "4c182fa9918e439b86ff97d351334d96": {
          "model_module": "@jupyter-widgets/base",
          "model_module_version": "1.2.0",
          "model_name": "LayoutModel",
          "state": {
            "_model_module": "@jupyter-widgets/base",
            "_model_module_version": "1.2.0",
            "_model_name": "LayoutModel",
            "_view_count": null,
            "_view_module": "@jupyter-widgets/base",
            "_view_module_version": "1.2.0",
            "_view_name": "LayoutView",
            "align_content": null,
            "align_items": null,
            "align_self": null,
            "border": null,
            "bottom": null,
            "display": null,
            "flex": null,
            "flex_flow": null,
            "grid_area": null,
            "grid_auto_columns": null,
            "grid_auto_flow": null,
            "grid_auto_rows": null,
            "grid_column": null,
            "grid_gap": null,
            "grid_row": null,
            "grid_template_areas": null,
            "grid_template_columns": null,
            "grid_template_rows": null,
            "height": null,
            "justify_content": null,
            "justify_items": null,
            "left": null,
            "margin": null,
            "max_height": null,
            "max_width": null,
            "min_height": null,
            "min_width": null,
            "object_fit": null,
            "object_position": null,
            "order": null,
            "overflow": null,
            "overflow_x": null,
            "overflow_y": null,
            "padding": null,
            "right": null,
            "top": null,
            "visibility": null,
            "width": null
          }
        },
        "59c8b13d82464a4fa61a5c9263f20648": {
          "model_module": "@jupyter-widgets/controls",
          "model_module_version": "1.5.0",
          "model_name": "HTMLModel",
          "state": {
            "_dom_classes": [],
            "_model_module": "@jupyter-widgets/controls",
            "_model_module_version": "1.5.0",
            "_model_name": "HTMLModel",
            "_view_count": null,
            "_view_module": "@jupyter-widgets/controls",
            "_view_module_version": "1.5.0",
            "_view_name": "HTMLView",
            "description": "",
            "description_tooltip": null,
            "layout": "IPY_MODEL_ea26884d57d242a99cdf3cde300d5cdc",
            "placeholder": "​",
            "style": "IPY_MODEL_33079885653a427bbf7a311b3146c042",
            "value": "Downloading: 100%"
          }
        },
        "5d264c6d6f054ad189bee286fcb9a83a": {
          "model_module": "@jupyter-widgets/base",
          "model_module_version": "1.2.0",
          "model_name": "LayoutModel",
          "state": {
            "_model_module": "@jupyter-widgets/base",
            "_model_module_version": "1.2.0",
            "_model_name": "LayoutModel",
            "_view_count": null,
            "_view_module": "@jupyter-widgets/base",
            "_view_module_version": "1.2.0",
            "_view_name": "LayoutView",
            "align_content": null,
            "align_items": null,
            "align_self": null,
            "border": null,
            "bottom": null,
            "display": null,
            "flex": null,
            "flex_flow": null,
            "grid_area": null,
            "grid_auto_columns": null,
            "grid_auto_flow": null,
            "grid_auto_rows": null,
            "grid_column": null,
            "grid_gap": null,
            "grid_row": null,
            "grid_template_areas": null,
            "grid_template_columns": null,
            "grid_template_rows": null,
            "height": null,
            "justify_content": null,
            "justify_items": null,
            "left": null,
            "margin": null,
            "max_height": null,
            "max_width": null,
            "min_height": null,
            "min_width": null,
            "object_fit": null,
            "object_position": null,
            "order": null,
            "overflow": null,
            "overflow_x": null,
            "overflow_y": null,
            "padding": null,
            "right": null,
            "top": null,
            "visibility": null,
            "width": null
          }
        },
        "5fba8dbfe97f4e58a80b1d156e929cdc": {
          "model_module": "@jupyter-widgets/controls",
          "model_module_version": "1.5.0",
          "model_name": "HTMLModel",
          "state": {
            "_dom_classes": [],
            "_model_module": "@jupyter-widgets/controls",
            "_model_module_version": "1.5.0",
            "_model_name": "HTMLModel",
            "_view_count": null,
            "_view_module": "@jupyter-widgets/controls",
            "_view_module_version": "1.5.0",
            "_view_name": "HTMLView",
            "description": "",
            "description_tooltip": null,
            "layout": "IPY_MODEL_5d264c6d6f054ad189bee286fcb9a83a",
            "placeholder": "​",
            "style": "IPY_MODEL_e0e5ecf59ba3421d84d9c110a76166e8",
            "value": "Downloading: 100%"
          }
        },
        "66956559809d4dc297d96aa5858e84bc": {
          "model_module": "@jupyter-widgets/base",
          "model_module_version": "1.2.0",
          "model_name": "LayoutModel",
          "state": {
            "_model_module": "@jupyter-widgets/base",
            "_model_module_version": "1.2.0",
            "_model_name": "LayoutModel",
            "_view_count": null,
            "_view_module": "@jupyter-widgets/base",
            "_view_module_version": "1.2.0",
            "_view_name": "LayoutView",
            "align_content": null,
            "align_items": null,
            "align_self": null,
            "border": null,
            "bottom": null,
            "display": null,
            "flex": null,
            "flex_flow": null,
            "grid_area": null,
            "grid_auto_columns": null,
            "grid_auto_flow": null,
            "grid_auto_rows": null,
            "grid_column": null,
            "grid_gap": null,
            "grid_row": null,
            "grid_template_areas": null,
            "grid_template_columns": null,
            "grid_template_rows": null,
            "height": null,
            "justify_content": null,
            "justify_items": null,
            "left": null,
            "margin": null,
            "max_height": null,
            "max_width": null,
            "min_height": null,
            "min_width": null,
            "object_fit": null,
            "object_position": null,
            "order": null,
            "overflow": null,
            "overflow_x": null,
            "overflow_y": null,
            "padding": null,
            "right": null,
            "top": null,
            "visibility": null,
            "width": null
          }
        },
        "66ddb8d2cbca4a96b85dad27be3354de": {
          "model_module": "@jupyter-widgets/controls",
          "model_module_version": "1.5.0",
          "model_name": "HBoxModel",
          "state": {
            "_dom_classes": [],
            "_model_module": "@jupyter-widgets/controls",
            "_model_module_version": "1.5.0",
            "_model_name": "HBoxModel",
            "_view_count": null,
            "_view_module": "@jupyter-widgets/controls",
            "_view_module_version": "1.5.0",
            "_view_name": "HBoxView",
            "box_style": "",
            "children": [
              "IPY_MODEL_7481f0f921344af78383245a890f81bf",
              "IPY_MODEL_c74ff799fc1b4453b18f61e3ec222ab2",
              "IPY_MODEL_df3bb0b66b1844d6888c1a5e62a48f92"
            ],
            "layout": "IPY_MODEL_4c182fa9918e439b86ff97d351334d96"
          }
        },
        "686bfe2599ee4063b364b00152032fdf": {
          "model_module": "@jupyter-widgets/controls",
          "model_module_version": "1.5.0",
          "model_name": "HBoxModel",
          "state": {
            "_dom_classes": [],
            "_model_module": "@jupyter-widgets/controls",
            "_model_module_version": "1.5.0",
            "_model_name": "HBoxModel",
            "_view_count": null,
            "_view_module": "@jupyter-widgets/controls",
            "_view_module_version": "1.5.0",
            "_view_name": "HBoxView",
            "box_style": "",
            "children": [
              "IPY_MODEL_9ade76e5a67340729a5d6080793d2e68",
              "IPY_MODEL_98e2b74d2b18485087b06a58ea1809b8",
              "IPY_MODEL_2c6595b724494f40989d5d3c9ae85978"
            ],
            "layout": "IPY_MODEL_0fa5e40c10094780886ac4ebc9a47605"
          }
        },
        "6def5ba6eb8a41aaaa6018bc00d1cbd3": {
          "model_module": "@jupyter-widgets/controls",
          "model_module_version": "1.5.0",
          "model_name": "ProgressStyleModel",
          "state": {
            "_model_module": "@jupyter-widgets/controls",
            "_model_module_version": "1.5.0",
            "_model_name": "ProgressStyleModel",
            "_view_count": null,
            "_view_module": "@jupyter-widgets/base",
            "_view_module_version": "1.2.0",
            "_view_name": "StyleView",
            "bar_color": null,
            "description_width": ""
          }
        },
        "6facf0f204dc4ff4ab7fdcb17b7407b4": {
          "model_module": "@jupyter-widgets/base",
          "model_module_version": "1.2.0",
          "model_name": "LayoutModel",
          "state": {
            "_model_module": "@jupyter-widgets/base",
            "_model_module_version": "1.2.0",
            "_model_name": "LayoutModel",
            "_view_count": null,
            "_view_module": "@jupyter-widgets/base",
            "_view_module_version": "1.2.0",
            "_view_name": "LayoutView",
            "align_content": null,
            "align_items": null,
            "align_self": null,
            "border": null,
            "bottom": null,
            "display": null,
            "flex": null,
            "flex_flow": null,
            "grid_area": null,
            "grid_auto_columns": null,
            "grid_auto_flow": null,
            "grid_auto_rows": null,
            "grid_column": null,
            "grid_gap": null,
            "grid_row": null,
            "grid_template_areas": null,
            "grid_template_columns": null,
            "grid_template_rows": null,
            "height": null,
            "justify_content": null,
            "justify_items": null,
            "left": null,
            "margin": null,
            "max_height": null,
            "max_width": null,
            "min_height": null,
            "min_width": null,
            "object_fit": null,
            "object_position": null,
            "order": null,
            "overflow": null,
            "overflow_x": null,
            "overflow_y": null,
            "padding": null,
            "right": null,
            "top": null,
            "visibility": null,
            "width": null
          }
        },
        "733eca849734442fb32ac48e726ac6b2": {
          "model_module": "@jupyter-widgets/controls",
          "model_module_version": "1.5.0",
          "model_name": "HTMLModel",
          "state": {
            "_dom_classes": [],
            "_model_module": "@jupyter-widgets/controls",
            "_model_module_version": "1.5.0",
            "_model_name": "HTMLModel",
            "_view_count": null,
            "_view_module": "@jupyter-widgets/controls",
            "_view_module_version": "1.5.0",
            "_view_name": "HTMLView",
            "description": "",
            "description_tooltip": null,
            "layout": "IPY_MODEL_91259e7fa83646bebef67e4ddd1ede9e",
            "placeholder": "​",
            "style": "IPY_MODEL_8a40173c86bc4183b83ad24544ff594a",
            "value": " 455k/455k [00:00&lt;00:00, 3.73MB/s]"
          }
        },
        "7481f0f921344af78383245a890f81bf": {
          "model_module": "@jupyter-widgets/controls",
          "model_module_version": "1.5.0",
          "model_name": "HTMLModel",
          "state": {
            "_dom_classes": [],
            "_model_module": "@jupyter-widgets/controls",
            "_model_module_version": "1.5.0",
            "_model_name": "HTMLModel",
            "_view_count": null,
            "_view_module": "@jupyter-widgets/controls",
            "_view_module_version": "1.5.0",
            "_view_name": "HTMLView",
            "description": "",
            "description_tooltip": null,
            "layout": "IPY_MODEL_a817df7f9ed547ffba3cb4438102fd13",
            "placeholder": "​",
            "style": "IPY_MODEL_0625083550fd44aa9244ab73585d3890",
            "value": "Downloading: 100%"
          }
        },
        "774e74a8a60f4f1cb9561c4a196c4289": {
          "model_module": "@jupyter-widgets/controls",
          "model_module_version": "1.5.0",
          "model_name": "ProgressStyleModel",
          "state": {
            "_model_module": "@jupyter-widgets/controls",
            "_model_module_version": "1.5.0",
            "_model_name": "ProgressStyleModel",
            "_view_count": null,
            "_view_module": "@jupyter-widgets/base",
            "_view_module_version": "1.2.0",
            "_view_name": "StyleView",
            "bar_color": null,
            "description_width": ""
          }
        },
        "785bb69136944110a6f004ccdf3dd30d": {
          "model_module": "@jupyter-widgets/base",
          "model_module_version": "1.2.0",
          "model_name": "LayoutModel",
          "state": {
            "_model_module": "@jupyter-widgets/base",
            "_model_module_version": "1.2.0",
            "_model_name": "LayoutModel",
            "_view_count": null,
            "_view_module": "@jupyter-widgets/base",
            "_view_module_version": "1.2.0",
            "_view_name": "LayoutView",
            "align_content": null,
            "align_items": null,
            "align_self": null,
            "border": null,
            "bottom": null,
            "display": null,
            "flex": null,
            "flex_flow": null,
            "grid_area": null,
            "grid_auto_columns": null,
            "grid_auto_flow": null,
            "grid_auto_rows": null,
            "grid_column": null,
            "grid_gap": null,
            "grid_row": null,
            "grid_template_areas": null,
            "grid_template_columns": null,
            "grid_template_rows": null,
            "height": null,
            "justify_content": null,
            "justify_items": null,
            "left": null,
            "margin": null,
            "max_height": null,
            "max_width": null,
            "min_height": null,
            "min_width": null,
            "object_fit": null,
            "object_position": null,
            "order": null,
            "overflow": null,
            "overflow_x": null,
            "overflow_y": null,
            "padding": null,
            "right": null,
            "top": null,
            "visibility": null,
            "width": null
          }
        },
        "8a40173c86bc4183b83ad24544ff594a": {
          "model_module": "@jupyter-widgets/controls",
          "model_module_version": "1.5.0",
          "model_name": "DescriptionStyleModel",
          "state": {
            "_model_module": "@jupyter-widgets/controls",
            "_model_module_version": "1.5.0",
            "_model_name": "DescriptionStyleModel",
            "_view_count": null,
            "_view_module": "@jupyter-widgets/base",
            "_view_module_version": "1.2.0",
            "_view_name": "StyleView",
            "description_width": ""
          }
        },
        "91259e7fa83646bebef67e4ddd1ede9e": {
          "model_module": "@jupyter-widgets/base",
          "model_module_version": "1.2.0",
          "model_name": "LayoutModel",
          "state": {
            "_model_module": "@jupyter-widgets/base",
            "_model_module_version": "1.2.0",
            "_model_name": "LayoutModel",
            "_view_count": null,
            "_view_module": "@jupyter-widgets/base",
            "_view_module_version": "1.2.0",
            "_view_name": "LayoutView",
            "align_content": null,
            "align_items": null,
            "align_self": null,
            "border": null,
            "bottom": null,
            "display": null,
            "flex": null,
            "flex_flow": null,
            "grid_area": null,
            "grid_auto_columns": null,
            "grid_auto_flow": null,
            "grid_auto_rows": null,
            "grid_column": null,
            "grid_gap": null,
            "grid_row": null,
            "grid_template_areas": null,
            "grid_template_columns": null,
            "grid_template_rows": null,
            "height": null,
            "justify_content": null,
            "justify_items": null,
            "left": null,
            "margin": null,
            "max_height": null,
            "max_width": null,
            "min_height": null,
            "min_width": null,
            "object_fit": null,
            "object_position": null,
            "order": null,
            "overflow": null,
            "overflow_x": null,
            "overflow_y": null,
            "padding": null,
            "right": null,
            "top": null,
            "visibility": null,
            "width": null
          }
        },
        "98e2b74d2b18485087b06a58ea1809b8": {
          "model_module": "@jupyter-widgets/controls",
          "model_module_version": "1.5.0",
          "model_name": "FloatProgressModel",
          "state": {
            "_dom_classes": [],
            "_model_module": "@jupyter-widgets/controls",
            "_model_module_version": "1.5.0",
            "_model_name": "FloatProgressModel",
            "_view_count": null,
            "_view_module": "@jupyter-widgets/controls",
            "_view_module_version": "1.5.0",
            "_view_name": "ProgressView",
            "bar_style": "success",
            "description": "",
            "description_tooltip": null,
            "layout": "IPY_MODEL_c73d84ea7b0a489784579c0ee3cabe4b",
            "max": 483,
            "min": 0,
            "orientation": "horizontal",
            "style": "IPY_MODEL_1f710967a1e545ef9e133d5ceba6101f",
            "value": 483
          }
        },
        "99ed39fa78fa4352a64da1bd7a5856fb": {
          "model_module": "@jupyter-widgets/base",
          "model_module_version": "1.2.0",
          "model_name": "LayoutModel",
          "state": {
            "_model_module": "@jupyter-widgets/base",
            "_model_module_version": "1.2.0",
            "_model_name": "LayoutModel",
            "_view_count": null,
            "_view_module": "@jupyter-widgets/base",
            "_view_module_version": "1.2.0",
            "_view_name": "LayoutView",
            "align_content": null,
            "align_items": null,
            "align_self": null,
            "border": null,
            "bottom": null,
            "display": null,
            "flex": null,
            "flex_flow": null,
            "grid_area": null,
            "grid_auto_columns": null,
            "grid_auto_flow": null,
            "grid_auto_rows": null,
            "grid_column": null,
            "grid_gap": null,
            "grid_row": null,
            "grid_template_areas": null,
            "grid_template_columns": null,
            "grid_template_rows": null,
            "height": null,
            "justify_content": null,
            "justify_items": null,
            "left": null,
            "margin": null,
            "max_height": null,
            "max_width": null,
            "min_height": null,
            "min_width": null,
            "object_fit": null,
            "object_position": null,
            "order": null,
            "overflow": null,
            "overflow_x": null,
            "overflow_y": null,
            "padding": null,
            "right": null,
            "top": null,
            "visibility": null,
            "width": null
          }
        },
        "9ade76e5a67340729a5d6080793d2e68": {
          "model_module": "@jupyter-widgets/controls",
          "model_module_version": "1.5.0",
          "model_name": "HTMLModel",
          "state": {
            "_dom_classes": [],
            "_model_module": "@jupyter-widgets/controls",
            "_model_module_version": "1.5.0",
            "_model_name": "HTMLModel",
            "_view_count": null,
            "_view_module": "@jupyter-widgets/controls",
            "_view_module_version": "1.5.0",
            "_view_name": "HTMLView",
            "description": "",
            "description_tooltip": null,
            "layout": "IPY_MODEL_2bf04bc2c4664772bf5a4fd1ba424119",
            "placeholder": "​",
            "style": "IPY_MODEL_ff05d10033a5400686589bd5ef9e679d",
            "value": "Downloading: 100%"
          }
        },
        "9c12f0230e6c4185adc50725c36e0b9f": {
          "model_module": "@jupyter-widgets/controls",
          "model_module_version": "1.5.0",
          "model_name": "HTMLModel",
          "state": {
            "_dom_classes": [],
            "_model_module": "@jupyter-widgets/controls",
            "_model_module_version": "1.5.0",
            "_model_name": "HTMLModel",
            "_view_count": null,
            "_view_module": "@jupyter-widgets/controls",
            "_view_module_version": "1.5.0",
            "_view_name": "HTMLView",
            "description": "",
            "description_tooltip": null,
            "layout": "IPY_MODEL_6facf0f204dc4ff4ab7fdcb17b7407b4",
            "placeholder": "​",
            "style": "IPY_MODEL_fc7c4eb5be07435299b141abb56ad393",
            "value": "Downloading: 100%"
          }
        },
        "a4783dc97ec44db2af9eddba695111a1": {
          "model_module": "@jupyter-widgets/controls",
          "model_module_version": "1.5.0",
          "model_name": "HTMLModel",
          "state": {
            "_dom_classes": [],
            "_model_module": "@jupyter-widgets/controls",
            "_model_module_version": "1.5.0",
            "_model_name": "HTMLModel",
            "_view_count": null,
            "_view_module": "@jupyter-widgets/controls",
            "_view_module_version": "1.5.0",
            "_view_name": "HTMLView",
            "description": "",
            "description_tooltip": null,
            "layout": "IPY_MODEL_bdc23b5f6f3940d898b5876948c4e03b",
            "placeholder": "​",
            "style": "IPY_MODEL_f1ed7f9d399d43468b15be82668bcf92",
            "value": " 347M/347M [00:05&lt;00:00, 72.2MB/s]"
          }
        },
        "a817df7f9ed547ffba3cb4438102fd13": {
          "model_module": "@jupyter-widgets/base",
          "model_module_version": "1.2.0",
          "model_name": "LayoutModel",
          "state": {
            "_model_module": "@jupyter-widgets/base",
            "_model_module_version": "1.2.0",
            "_model_name": "LayoutModel",
            "_view_count": null,
            "_view_module": "@jupyter-widgets/base",
            "_view_module_version": "1.2.0",
            "_view_name": "LayoutView",
            "align_content": null,
            "align_items": null,
            "align_self": null,
            "border": null,
            "bottom": null,
            "display": null,
            "flex": null,
            "flex_flow": null,
            "grid_area": null,
            "grid_auto_columns": null,
            "grid_auto_flow": null,
            "grid_auto_rows": null,
            "grid_column": null,
            "grid_gap": null,
            "grid_row": null,
            "grid_template_areas": null,
            "grid_template_columns": null,
            "grid_template_rows": null,
            "height": null,
            "justify_content": null,
            "justify_items": null,
            "left": null,
            "margin": null,
            "max_height": null,
            "max_width": null,
            "min_height": null,
            "min_width": null,
            "object_fit": null,
            "object_position": null,
            "order": null,
            "overflow": null,
            "overflow_x": null,
            "overflow_y": null,
            "padding": null,
            "right": null,
            "top": null,
            "visibility": null,
            "width": null
          }
        },
        "ad30af7dd71641c6b5312bf9f8838309": {
          "model_module": "@jupyter-widgets/base",
          "model_module_version": "1.2.0",
          "model_name": "LayoutModel",
          "state": {
            "_model_module": "@jupyter-widgets/base",
            "_model_module_version": "1.2.0",
            "_model_name": "LayoutModel",
            "_view_count": null,
            "_view_module": "@jupyter-widgets/base",
            "_view_module_version": "1.2.0",
            "_view_name": "LayoutView",
            "align_content": null,
            "align_items": null,
            "align_self": null,
            "border": null,
            "bottom": null,
            "display": null,
            "flex": null,
            "flex_flow": null,
            "grid_area": null,
            "grid_auto_columns": null,
            "grid_auto_flow": null,
            "grid_auto_rows": null,
            "grid_column": null,
            "grid_gap": null,
            "grid_row": null,
            "grid_template_areas": null,
            "grid_template_columns": null,
            "grid_template_rows": null,
            "height": null,
            "justify_content": null,
            "justify_items": null,
            "left": null,
            "margin": null,
            "max_height": null,
            "max_width": null,
            "min_height": null,
            "min_width": null,
            "object_fit": null,
            "object_position": null,
            "order": null,
            "overflow": null,
            "overflow_x": null,
            "overflow_y": null,
            "padding": null,
            "right": null,
            "top": null,
            "visibility": null,
            "width": null
          }
        },
        "aeb4dcf4afff457bb036e9b8a2610fdb": {
          "model_module": "@jupyter-widgets/base",
          "model_module_version": "1.2.0",
          "model_name": "LayoutModel",
          "state": {
            "_model_module": "@jupyter-widgets/base",
            "_model_module_version": "1.2.0",
            "_model_name": "LayoutModel",
            "_view_count": null,
            "_view_module": "@jupyter-widgets/base",
            "_view_module_version": "1.2.0",
            "_view_name": "LayoutView",
            "align_content": null,
            "align_items": null,
            "align_self": null,
            "border": null,
            "bottom": null,
            "display": null,
            "flex": null,
            "flex_flow": null,
            "grid_area": null,
            "grid_auto_columns": null,
            "grid_auto_flow": null,
            "grid_auto_rows": null,
            "grid_column": null,
            "grid_gap": null,
            "grid_row": null,
            "grid_template_areas": null,
            "grid_template_columns": null,
            "grid_template_rows": null,
            "height": null,
            "justify_content": null,
            "justify_items": null,
            "left": null,
            "margin": null,
            "max_height": null,
            "max_width": null,
            "min_height": null,
            "min_width": null,
            "object_fit": null,
            "object_position": null,
            "order": null,
            "overflow": null,
            "overflow_x": null,
            "overflow_y": null,
            "padding": null,
            "right": null,
            "top": null,
            "visibility": null,
            "width": null
          }
        },
        "b06d688bb63d428180e0fff4f5cabe1c": {
          "model_module": "@jupyter-widgets/base",
          "model_module_version": "1.2.0",
          "model_name": "LayoutModel",
          "state": {
            "_model_module": "@jupyter-widgets/base",
            "_model_module_version": "1.2.0",
            "_model_name": "LayoutModel",
            "_view_count": null,
            "_view_module": "@jupyter-widgets/base",
            "_view_module_version": "1.2.0",
            "_view_name": "LayoutView",
            "align_content": null,
            "align_items": null,
            "align_self": null,
            "border": null,
            "bottom": null,
            "display": null,
            "flex": null,
            "flex_flow": null,
            "grid_area": null,
            "grid_auto_columns": null,
            "grid_auto_flow": null,
            "grid_auto_rows": null,
            "grid_column": null,
            "grid_gap": null,
            "grid_row": null,
            "grid_template_areas": null,
            "grid_template_columns": null,
            "grid_template_rows": null,
            "height": null,
            "justify_content": null,
            "justify_items": null,
            "left": null,
            "margin": null,
            "max_height": null,
            "max_width": null,
            "min_height": null,
            "min_width": null,
            "object_fit": null,
            "object_position": null,
            "order": null,
            "overflow": null,
            "overflow_x": null,
            "overflow_y": null,
            "padding": null,
            "right": null,
            "top": null,
            "visibility": null,
            "width": null
          }
        },
        "bdc23b5f6f3940d898b5876948c4e03b": {
          "model_module": "@jupyter-widgets/base",
          "model_module_version": "1.2.0",
          "model_name": "LayoutModel",
          "state": {
            "_model_module": "@jupyter-widgets/base",
            "_model_module_version": "1.2.0",
            "_model_name": "LayoutModel",
            "_view_count": null,
            "_view_module": "@jupyter-widgets/base",
            "_view_module_version": "1.2.0",
            "_view_name": "LayoutView",
            "align_content": null,
            "align_items": null,
            "align_self": null,
            "border": null,
            "bottom": null,
            "display": null,
            "flex": null,
            "flex_flow": null,
            "grid_area": null,
            "grid_auto_columns": null,
            "grid_auto_flow": null,
            "grid_auto_rows": null,
            "grid_column": null,
            "grid_gap": null,
            "grid_row": null,
            "grid_template_areas": null,
            "grid_template_columns": null,
            "grid_template_rows": null,
            "height": null,
            "justify_content": null,
            "justify_items": null,
            "left": null,
            "margin": null,
            "max_height": null,
            "max_width": null,
            "min_height": null,
            "min_width": null,
            "object_fit": null,
            "object_position": null,
            "order": null,
            "overflow": null,
            "overflow_x": null,
            "overflow_y": null,
            "padding": null,
            "right": null,
            "top": null,
            "visibility": null,
            "width": null
          }
        },
        "c1adf5f0b7e14788b296fdfac359b349": {
          "model_module": "@jupyter-widgets/controls",
          "model_module_version": "1.5.0",
          "model_name": "DescriptionStyleModel",
          "state": {
            "_model_module": "@jupyter-widgets/controls",
            "_model_module_version": "1.5.0",
            "_model_name": "DescriptionStyleModel",
            "_view_count": null,
            "_view_module": "@jupyter-widgets/base",
            "_view_module_version": "1.2.0",
            "_view_name": "StyleView",
            "description_width": ""
          }
        },
        "c73d84ea7b0a489784579c0ee3cabe4b": {
          "model_module": "@jupyter-widgets/base",
          "model_module_version": "1.2.0",
          "model_name": "LayoutModel",
          "state": {
            "_model_module": "@jupyter-widgets/base",
            "_model_module_version": "1.2.0",
            "_model_name": "LayoutModel",
            "_view_count": null,
            "_view_module": "@jupyter-widgets/base",
            "_view_module_version": "1.2.0",
            "_view_name": "LayoutView",
            "align_content": null,
            "align_items": null,
            "align_self": null,
            "border": null,
            "bottom": null,
            "display": null,
            "flex": null,
            "flex_flow": null,
            "grid_area": null,
            "grid_auto_columns": null,
            "grid_auto_flow": null,
            "grid_auto_rows": null,
            "grid_column": null,
            "grid_gap": null,
            "grid_row": null,
            "grid_template_areas": null,
            "grid_template_columns": null,
            "grid_template_rows": null,
            "height": null,
            "justify_content": null,
            "justify_items": null,
            "left": null,
            "margin": null,
            "max_height": null,
            "max_width": null,
            "min_height": null,
            "min_width": null,
            "object_fit": null,
            "object_position": null,
            "order": null,
            "overflow": null,
            "overflow_x": null,
            "overflow_y": null,
            "padding": null,
            "right": null,
            "top": null,
            "visibility": null,
            "width": null
          }
        },
        "c74ff799fc1b4453b18f61e3ec222ab2": {
          "model_module": "@jupyter-widgets/controls",
          "model_module_version": "1.5.0",
          "model_name": "FloatProgressModel",
          "state": {
            "_dom_classes": [],
            "_model_module": "@jupyter-widgets/controls",
            "_model_module_version": "1.5.0",
            "_model_name": "FloatProgressModel",
            "_view_count": null,
            "_view_module": "@jupyter-widgets/controls",
            "_view_module_version": "1.5.0",
            "_view_name": "ProgressView",
            "bar_style": "success",
            "description": "",
            "description_tooltip": null,
            "layout": "IPY_MODEL_34acdcc9318444ac8373fbe9723b5345",
            "max": 231508,
            "min": 0,
            "orientation": "horizontal",
            "style": "IPY_MODEL_4a8527f489b84a82a82bae075fa6c6a5",
            "value": 231508
          }
        },
        "d47edfeb77a841069f10bbc71b4b1d8e": {
          "model_module": "@jupyter-widgets/controls",
          "model_module_version": "1.5.0",
          "model_name": "FloatProgressModel",
          "state": {
            "_dom_classes": [],
            "_model_module": "@jupyter-widgets/controls",
            "_model_module_version": "1.5.0",
            "_model_name": "FloatProgressModel",
            "_view_count": null,
            "_view_module": "@jupyter-widgets/controls",
            "_view_module_version": "1.5.0",
            "_view_name": "ProgressView",
            "bar_style": "success",
            "description": "",
            "description_tooltip": null,
            "layout": "IPY_MODEL_2d92cfd59c8d437c898e2bde496ad77c",
            "max": 48,
            "min": 0,
            "orientation": "horizontal",
            "style": "IPY_MODEL_6def5ba6eb8a41aaaa6018bc00d1cbd3",
            "value": 48
          }
        },
        "d4805798ef8e464d89dda480b5aac4dd": {
          "model_module": "@jupyter-widgets/controls",
          "model_module_version": "1.5.0",
          "model_name": "HTMLModel",
          "state": {
            "_dom_classes": [],
            "_model_module": "@jupyter-widgets/controls",
            "_model_module_version": "1.5.0",
            "_model_name": "HTMLModel",
            "_view_count": null,
            "_view_module": "@jupyter-widgets/controls",
            "_view_module_version": "1.5.0",
            "_view_name": "HTMLView",
            "description": "",
            "description_tooltip": null,
            "layout": "IPY_MODEL_ad30af7dd71641c6b5312bf9f8838309",
            "placeholder": "​",
            "style": "IPY_MODEL_d671ef3a8bb34ee6bf43cc86a9e581f4",
            "value": " 48.0/48.0 [00:00&lt;00:00, 2.53kB/s]"
          }
        },
        "d671ef3a8bb34ee6bf43cc86a9e581f4": {
          "model_module": "@jupyter-widgets/controls",
          "model_module_version": "1.5.0",
          "model_name": "DescriptionStyleModel",
          "state": {
            "_model_module": "@jupyter-widgets/controls",
            "_model_module_version": "1.5.0",
            "_model_name": "DescriptionStyleModel",
            "_view_count": null,
            "_view_module": "@jupyter-widgets/base",
            "_view_module_version": "1.2.0",
            "_view_name": "StyleView",
            "description_width": ""
          }
        },
        "daedf7586de248a784c46dd2622f567a": {
          "model_module": "@jupyter-widgets/controls",
          "model_module_version": "1.5.0",
          "model_name": "HBoxModel",
          "state": {
            "_dom_classes": [],
            "_model_module": "@jupyter-widgets/controls",
            "_model_module_version": "1.5.0",
            "_model_name": "HBoxModel",
            "_view_count": null,
            "_view_module": "@jupyter-widgets/controls",
            "_view_module_version": "1.5.0",
            "_view_name": "HBoxView",
            "box_style": "",
            "children": [
              "IPY_MODEL_5fba8dbfe97f4e58a80b1d156e929cdc",
              "IPY_MODEL_d47edfeb77a841069f10bbc71b4b1d8e",
              "IPY_MODEL_d4805798ef8e464d89dda480b5aac4dd"
            ],
            "layout": "IPY_MODEL_aeb4dcf4afff457bb036e9b8a2610fdb"
          }
        },
        "df3bb0b66b1844d6888c1a5e62a48f92": {
          "model_module": "@jupyter-widgets/controls",
          "model_module_version": "1.5.0",
          "model_name": "HTMLModel",
          "state": {
            "_dom_classes": [],
            "_model_module": "@jupyter-widgets/controls",
            "_model_module_version": "1.5.0",
            "_model_name": "HTMLModel",
            "_view_count": null,
            "_view_module": "@jupyter-widgets/controls",
            "_view_module_version": "1.5.0",
            "_view_name": "HTMLView",
            "description": "",
            "description_tooltip": null,
            "layout": "IPY_MODEL_0e008a7336184cea99c6d15034cf50ed",
            "placeholder": "​",
            "style": "IPY_MODEL_c1adf5f0b7e14788b296fdfac359b349",
            "value": " 226k/226k [00:00&lt;00:00, 1.59MB/s]"
          }
        },
        "e0e5ecf59ba3421d84d9c110a76166e8": {
          "model_module": "@jupyter-widgets/controls",
          "model_module_version": "1.5.0",
          "model_name": "DescriptionStyleModel",
          "state": {
            "_model_module": "@jupyter-widgets/controls",
            "_model_module_version": "1.5.0",
            "_model_name": "DescriptionStyleModel",
            "_view_count": null,
            "_view_module": "@jupyter-widgets/base",
            "_view_module_version": "1.2.0",
            "_view_name": "StyleView",
            "description_width": ""
          }
        },
        "ea26884d57d242a99cdf3cde300d5cdc": {
          "model_module": "@jupyter-widgets/base",
          "model_module_version": "1.2.0",
          "model_name": "LayoutModel",
          "state": {
            "_model_module": "@jupyter-widgets/base",
            "_model_module_version": "1.2.0",
            "_model_name": "LayoutModel",
            "_view_count": null,
            "_view_module": "@jupyter-widgets/base",
            "_view_module_version": "1.2.0",
            "_view_name": "LayoutView",
            "align_content": null,
            "align_items": null,
            "align_self": null,
            "border": null,
            "bottom": null,
            "display": null,
            "flex": null,
            "flex_flow": null,
            "grid_area": null,
            "grid_auto_columns": null,
            "grid_auto_flow": null,
            "grid_auto_rows": null,
            "grid_column": null,
            "grid_gap": null,
            "grid_row": null,
            "grid_template_areas": null,
            "grid_template_columns": null,
            "grid_template_rows": null,
            "height": null,
            "justify_content": null,
            "justify_items": null,
            "left": null,
            "margin": null,
            "max_height": null,
            "max_width": null,
            "min_height": null,
            "min_width": null,
            "object_fit": null,
            "object_position": null,
            "order": null,
            "overflow": null,
            "overflow_x": null,
            "overflow_y": null,
            "padding": null,
            "right": null,
            "top": null,
            "visibility": null,
            "width": null
          }
        },
        "ef5803dd10bf4ec89fc0774fa5cba2b2": {
          "model_module": "@jupyter-widgets/controls",
          "model_module_version": "1.5.0",
          "model_name": "FloatProgressModel",
          "state": {
            "_dom_classes": [],
            "_model_module": "@jupyter-widgets/controls",
            "_model_module_version": "1.5.0",
            "_model_name": "FloatProgressModel",
            "_view_count": null,
            "_view_module": "@jupyter-widgets/controls",
            "_view_module_version": "1.5.0",
            "_view_name": "ProgressView",
            "bar_style": "success",
            "description": "",
            "description_tooltip": null,
            "layout": "IPY_MODEL_785bb69136944110a6f004ccdf3dd30d",
            "max": 466062,
            "min": 0,
            "orientation": "horizontal",
            "style": "IPY_MODEL_f967c0c128af461e82495621ae7fe3ac",
            "value": 466062
          }
        },
        "f1ed7f9d399d43468b15be82668bcf92": {
          "model_module": "@jupyter-widgets/controls",
          "model_module_version": "1.5.0",
          "model_name": "DescriptionStyleModel",
          "state": {
            "_model_module": "@jupyter-widgets/controls",
            "_model_module_version": "1.5.0",
            "_model_name": "DescriptionStyleModel",
            "_view_count": null,
            "_view_module": "@jupyter-widgets/base",
            "_view_module_version": "1.2.0",
            "_view_name": "StyleView",
            "description_width": ""
          }
        },
        "f51458976a9c4538b39f77260ddb44f1": {
          "model_module": "@jupyter-widgets/base",
          "model_module_version": "1.2.0",
          "model_name": "LayoutModel",
          "state": {
            "_model_module": "@jupyter-widgets/base",
            "_model_module_version": "1.2.0",
            "_model_name": "LayoutModel",
            "_view_count": null,
            "_view_module": "@jupyter-widgets/base",
            "_view_module_version": "1.2.0",
            "_view_name": "LayoutView",
            "align_content": null,
            "align_items": null,
            "align_self": null,
            "border": null,
            "bottom": null,
            "display": null,
            "flex": null,
            "flex_flow": null,
            "grid_area": null,
            "grid_auto_columns": null,
            "grid_auto_flow": null,
            "grid_auto_rows": null,
            "grid_column": null,
            "grid_gap": null,
            "grid_row": null,
            "grid_template_areas": null,
            "grid_template_columns": null,
            "grid_template_rows": null,
            "height": null,
            "justify_content": null,
            "justify_items": null,
            "left": null,
            "margin": null,
            "max_height": null,
            "max_width": null,
            "min_height": null,
            "min_width": null,
            "object_fit": null,
            "object_position": null,
            "order": null,
            "overflow": null,
            "overflow_x": null,
            "overflow_y": null,
            "padding": null,
            "right": null,
            "top": null,
            "visibility": null,
            "width": null
          }
        },
        "f967c0c128af461e82495621ae7fe3ac": {
          "model_module": "@jupyter-widgets/controls",
          "model_module_version": "1.5.0",
          "model_name": "ProgressStyleModel",
          "state": {
            "_model_module": "@jupyter-widgets/controls",
            "_model_module_version": "1.5.0",
            "_model_name": "ProgressStyleModel",
            "_view_count": null,
            "_view_module": "@jupyter-widgets/base",
            "_view_module_version": "1.2.0",
            "_view_name": "StyleView",
            "bar_color": null,
            "description_width": ""
          }
        },
        "fc7c4eb5be07435299b141abb56ad393": {
          "model_module": "@jupyter-widgets/controls",
          "model_module_version": "1.5.0",
          "model_name": "DescriptionStyleModel",
          "state": {
            "_model_module": "@jupyter-widgets/controls",
            "_model_module_version": "1.5.0",
            "_model_name": "DescriptionStyleModel",
            "_view_count": null,
            "_view_module": "@jupyter-widgets/base",
            "_view_module_version": "1.2.0",
            "_view_name": "StyleView",
            "description_width": ""
          }
        },
        "ff05d10033a5400686589bd5ef9e679d": {
          "model_module": "@jupyter-widgets/controls",
          "model_module_version": "1.5.0",
          "model_name": "DescriptionStyleModel",
          "state": {
            "_model_module": "@jupyter-widgets/controls",
            "_model_module_version": "1.5.0",
            "_model_name": "DescriptionStyleModel",
            "_view_count": null,
            "_view_module": "@jupyter-widgets/base",
            "_view_module_version": "1.2.0",
            "_view_name": "StyleView",
            "description_width": ""
          }
        }
      }
    }
  },
  "nbformat": 4,
  "nbformat_minor": 0
}
